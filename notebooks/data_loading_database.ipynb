{
 "cells": [
  {
   "cell_type": "markdown",
   "id": "4ca2e167",
   "metadata": {},
   "source": [
    "# Creating table and storing data "
   ]
  },
  {
   "cell_type": "markdown",
   "id": "241341af",
   "metadata": {},
   "source": [
    "## Step 1: Import and Set Up"
   ]
  },
  {
   "cell_type": "code",
   "execution_count": 1,
   "id": "08ad5925",
   "metadata": {},
   "outputs": [
    {
     "name": "stdout",
     "output_type": "stream",
     "text": [
      "All required directories are ready.\n"
     ]
    }
   ],
   "source": [
    "import pandas as pd\n",
    "import numpy as np\n",
    "from pathlib import Path\n",
    "# 1. Setup environment and imports\n",
    "import sys\n",
    "\n",
    "# Add the 'scripts' folder to the Python path\n",
    "scripts_path = Path(\"../scripts\").resolve()\n",
    "if str(scripts_path) not in sys.path:\n",
    "    sys.path.append(str(scripts_path))\n",
    "\n",
    "from db_utils import create_connection_from_script, save_to_sqlite, close_connection, run_query, create_nhanes_tables\n",
    "\n",
    "# Folder containing your processed CSVs\n",
    "from config import (\n",
    "    PROCESSED_DATA_DIR,\n",
    "    DATABASE_PATH, \n",
    "    FINAL_DATA_DIR    \n",
    ")\n"
   ]
  },
  {
   "cell_type": "markdown",
   "id": "8a4adf9d",
   "metadata": {},
   "source": [
    "## Step 2: Define Your Required Files and Paths"
   ]
  },
  {
   "cell_type": "code",
   "execution_count": 2,
   "id": "d3258a0e",
   "metadata": {},
   "outputs": [],
   "source": [
    "\n",
    "# List of processed CSV files\n",
    "datasets_to_load = {\n",
    "    \"demographics\": \"demo_l_processed.csv\",\n",
    "    \"diet\": \"dr1tot_l_processed.csv\",\n",
    "    \"physical_activity\": \"paq_l_processed.csv\",\n",
    "    \"sleep\": \"slq_l_processed.csv\",\n",
    "    \"health_insurance\": \"hiq_l_processed.csv\",\n",
    "    \"bmi\": \"bmx_l_processed.csv\",\n",
    "    \"bp\": \"bpxo_l_processed.csv\",\n",
    "    \"total_cholestrol\": \"tchol_l_processed.csv\",\n",
    "    \"glucose\": \"glu_l_processed.csv\",\n",
    "    \"diabetes\": \"diq_l_processed.csv\",\n",
    "    \"cardio_vascular\": \"mcq_l_processed.csv\"\n",
    "}\n"
   ]
  },
  {
   "cell_type": "markdown",
   "id": "46b09e04",
   "metadata": {},
   "source": [
    "## Step 3: Load Each CSV into a DataFrame"
   ]
  },
  {
   "cell_type": "code",
   "execution_count": 3,
   "id": "c4a5a8b1",
   "metadata": {},
   "outputs": [
    {
     "name": "stdout",
     "output_type": "stream",
     "text": [
      "Loaded 'demographics' with shape (6064, 12)\n",
      "Loaded 'diet' with shape (5879, 13)\n",
      "Loaded 'physical_activity' with shape (5894, 9)\n",
      "Loaded 'sleep' with shape (8371, 5)\n",
      "Loaded 'health_insurance' with shape (11871, 2)\n",
      "Loaded 'bmi' with shape (8471, 3)\n",
      "Loaded 'bp' with shape (7518, 4)\n",
      "Loaded 'total_cholestrol' with shape (6890, 3)\n",
      "Loaded 'glucose' with shape (3360, 8)\n",
      "Loaded 'diabetes' with shape (11744, 5)\n",
      "Loaded 'cardio_vascular' with shape (11744, 6)\n"
     ]
    }
   ],
   "source": [
    "# Dictionary to store DataFrames\n",
    "dataframes = {}\n",
    "\n",
    "for table_name, filename in datasets_to_load.items():\n",
    "    file_path = Path(PROCESSED_DATA_DIR) / filename\n",
    "    \n",
    "    # Load CSV, force participant_id column to string\n",
    "    df = pd.read_csv(file_path, dtype={\"participant_id\": str})\n",
    "    \n",
    "    # Clean participant_id: convert values like \"12345.0\" to \"12345\"\n",
    "    df['participant_id'] = df['participant_id'].apply(\n",
    "        lambda x: str(int(float(x))) if pd.notnull(x) else np.nan\n",
    "    )\n",
    "    \n",
    "    dataframes[table_name] = df\n",
    "    print(f\"Loaded '{table_name}' with shape {df.shape}\")\n",
    "  "
   ]
  },
  {
   "cell_type": "markdown",
   "id": "23d6411c",
   "metadata": {},
   "source": [
    "###  Step 4: Connect to SQLite Database"
   ]
  },
  {
   "cell_type": "code",
   "execution_count": 4,
   "id": "5410c290",
   "metadata": {},
   "outputs": [
    {
     "name": "stdout",
     "output_type": "stream",
     "text": [
      "Connected to database at: C:\\Users\\sahil\\Documents\\CodeYou-Project\\DA_Projects\\health_track\\database\\nhanes_2021_2023.db\n"
     ]
    }
   ],
   "source": [
    "conn = create_connection_from_script(DATABASE_PATH)"
   ]
  },
  {
   "cell_type": "markdown",
   "id": "bbef991a",
   "metadata": {},
   "source": [
    "###  Step 5: Create Your Tables"
   ]
  },
  {
   "cell_type": "code",
   "execution_count": 5,
   "id": "bd2042f7",
   "metadata": {},
   "outputs": [
    {
     "name": "stdout",
     "output_type": "stream",
     "text": [
      "Created table 'demographics'\n",
      "Created table 'health_insurance'\n",
      "Created table 'sleep'\n",
      "Created table 'physical_activity'\n",
      "Created table 'diet'\n",
      "Created table 'bmi'\n",
      "Created table 'bp'\n",
      "Created table 'total_cholestrol'\n",
      "Created table 'glucose'\n",
      "Created table 'diabetes'\n",
      "Created table 'cardio_vascular'\n",
      "All required NHANES tables created successfully.\n"
     ]
    }
   ],
   "source": [
    "from db_utils import create_nhanes_tables\n",
    "create_nhanes_tables(conn)"
   ]
  },
  {
   "cell_type": "markdown",
   "id": "0ce709f0",
   "metadata": {},
   "source": [
    "### Check point 1: Check tables in the database"
   ]
  },
  {
   "cell_type": "code",
   "execution_count": 6,
   "id": "71d3b027",
   "metadata": {},
   "outputs": [
    {
     "name": "stdout",
     "output_type": "stream",
     "text": [
      "Tables in the database:\n",
      "                 name\n",
      "0        demographics\n",
      "1               sleep\n",
      "2                diet\n",
      "3   physical_activity\n",
      "4    health_insurance\n",
      "5                 bmi\n",
      "6                  bp\n",
      "7    total_cholestrol\n",
      "8             glucose\n",
      "9            diabetes\n",
      "10    cardio_vascular\n"
     ]
    }
   ],
   "source": [
    "query = \"SELECT name FROM sqlite_master WHERE type='table';\"\n",
    "tables_df = run_query(conn, query)\n",
    "\n",
    "print(\"Tables in the database:\")\n",
    "print(tables_df)"
   ]
  },
  {
   "cell_type": "markdown",
   "id": "309a2745",
   "metadata": {},
   "source": [
    "### Check point 2: Get the structure of each table"
   ]
  },
  {
   "cell_type": "code",
   "execution_count": 7,
   "id": "081eb9a0",
   "metadata": {},
   "outputs": [
    {
     "name": "stdout",
     "output_type": "stream",
     "text": [
      "\n",
      "Schema for table: 'demographics'\n",
      "    cid                     name     type  notnull dflt_value  pk\n",
      "0     0           participant_id     TEXT        0       None   1\n",
      "1     1                   gender     TEXT        0       None   0\n",
      "2     2                      age  INTEGER        0       None   0\n",
      "3     3           race_ethnicity     TEXT        0       None   0\n",
      "4     4          education_level     TEXT        0       None   0\n",
      "5     5     poverty_income_ratio     REAL        0       None   0\n",
      "6     6  interview_sample_weight     REAL        0       None   0\n",
      "7     7       exam_sample_weight     REAL        0       None   0\n",
      "8     8                   strata     REAL        0       None   0\n",
      "9     9                      psu     REAL        0       None   0\n",
      "10   10             pir_category     TEXT        0       None   0\n",
      "\n",
      "Schema for table: 'sleep'\n",
      "   cid            name  type  notnull dflt_value  pk\n",
      "0    0  participant_id  TEXT        0       None   1\n",
      "1    1    sleep_avg_hr  REAL        0       None   0\n",
      "2    2  sleep_category  TEXT        0       None   0\n",
      "\n",
      "Schema for table: 'diet'\n",
      "   cid            name  type  notnull dflt_value  pk\n",
      "0    0  participant_id  TEXT        0       None   1\n",
      "1    1     diet_weight  REAL        0       None   0\n",
      "2    2      diet_score  REAL        0       None   0\n",
      "3    3   diet_category  TEXT        0       None   0\n",
      "\n",
      "Schema for table: 'physical_activity'\n",
      "   cid                    name  type  notnull dflt_value  pk\n",
      "0    0          participant_id  TEXT        0       None   1\n",
      "1    1          activity_level  TEXT        0       None   0\n",
      "2    2  sedentary_min_per_week  REAL        0       None   0\n",
      "3    3        total_weekly_min  REAL        0       None   0\n",
      "\n",
      "Schema for table: 'health_insurance'\n",
      "   cid                  name  type  notnull dflt_value  pk\n",
      "0    0        participant_id  TEXT        0       None   1\n",
      "1    1  has_health_insurance  TEXT        0       None   0\n",
      "\n",
      "Schema for table: 'bmi'\n",
      "   cid            name     type  notnull dflt_value  pk\n",
      "0    0  participant_id     TEXT        0       None   1\n",
      "1    1             bmi     REAL        0       None   0\n",
      "2    2           obese  INTEGER        0       None   0\n",
      "\n",
      "Schema for table: 'bp'\n",
      "   cid            name  type  notnull dflt_value  pk\n",
      "0    0  participant_id  TEXT        0       None   1\n",
      "1    1    systolic_avg  REAL        0       None   0\n",
      "2    2   diastolic_avg  REAL        0       None   0\n",
      "3    3     bp_category  TEXT        0       None   0\n",
      "\n",
      "Schema for table: 'total_cholestrol'\n",
      "   cid                  name  type  notnull dflt_value  pk\n",
      "0    0        participant_id  TEXT        0       None   1\n",
      "1    1     total_cholesterol  REAL        0       None   0\n",
      "2    2  cholesterol_category  TEXT        0       None   0\n",
      "\n",
      "Schema for table: 'glucose'\n",
      "   cid                       name     type  notnull dflt_value  pk\n",
      "0    0             participant_id     TEXT        0       None   1\n",
      "1    1      fasting_glucose_mg_dl     REAL        0       None   0\n",
      "2    2   fasting_subsample_weight     REAL        0       None   0\n",
      "3    3           glucose_category     TEXT        0       None   0\n",
      "4    4          hypoglycemia_flag  INTEGER        0       None   0\n",
      "5    5         hyperglycemia_flag  INTEGER        0       None   0\n",
      "6    6  log_fasting_glucose_mg_dl     REAL        0       None   0\n",
      "\n",
      "Schema for table: 'diabetes'\n",
      "   cid               name     type  notnull dflt_value  pk\n",
      "0    0     participant_id     TEXT        0       None   1\n",
      "1    1        diabetes_dx  INTEGER        0       None   0\n",
      "2    2      diabetes_meds  INTEGER        0       None   0\n",
      "3    3  diabetes_meds_cat     TEXT        0       None   0\n",
      "4    4    diabetes_status     TEXT        0       None   0\n",
      "\n",
      "Schema for table: 'cardio_vascular'\n",
      "   cid                      name     type  notnull dflt_value  pk\n",
      "0    0            participant_id     TEXT        0       None   1\n",
      "1    1  congestive_heart_failure  INTEGER        0       None   0\n",
      "2    2    coronary_heart_disease  INTEGER        0       None   0\n",
      "3    3                    angina  INTEGER        0       None   0\n",
      "4    4              heart_attack  INTEGER        0       None   0\n",
      "5    5                   any_cvd  INTEGER        0       None   0\n"
     ]
    }
   ],
   "source": [
    "# Get the list of tables\n",
    "tables_df = run_query(conn, \"SELECT name FROM sqlite_master WHERE type='table';\")\n",
    "table_names = tables_df['name'].tolist()\n",
    "\n",
    "# Loop through each table and print its schema\n",
    "for table in table_names:\n",
    "    print(f\"\\nSchema for table: '{table}'\")\n",
    "    schema_df = run_query(conn, f\"PRAGMA table_info({table});\")\n",
    "    print(schema_df)"
   ]
  },
  {
   "cell_type": "markdown",
   "id": "a4397929",
   "metadata": {},
   "source": [
    "### Step 6: Save DataFrames to SQLite Tables"
   ]
  },
  {
   "cell_type": "code",
   "execution_count": 8,
   "id": "9f709722",
   "metadata": {},
   "outputs": [
    {
     "name": "stdout",
     "output_type": "stream",
     "text": [
      "Recreated table 'demographics'\n",
      "Dropping columns not in table 'demographics': ['interview_sample_weight_missing']\n",
      "Inserted 6064 rows into 'demographics'\n",
      "Recreated table 'sleep'\n",
      "Dropping columns not in table 'sleep': ['sleep_weekday_hr', 'sleep_weekend_hr']\n",
      "Inserted 8371 rows into 'sleep'\n",
      "Recreated table 'diet'\n",
      "Dropping columns not in table 'diet': ['dietary_recall_complete', 'energy_kcal', 'energy_kcal_missing_flag', 'fiber_g', 'fiber_g_missing_flag', 'sat_fat_g', 'sat_fat_g_missing_flag', 'sugar_g', 'sugar_g_missing_flag']\n",
      "Inserted 5879 rows into 'diet'\n",
      "Recreated table 'physical_activity'\n",
      "Dropping columns not in table 'physical_activity': ['duration_min', 'freq', 'freq_per_week', 'freq_unit', 'sedentary_min_per_day']\n",
      "Inserted 5894 rows into 'physical_activity'\n",
      "Recreated table 'health_insurance'\n",
      "Inserted 11871 rows into 'health_insurance'\n",
      "Recreated table 'bmi'\n",
      "Inserted 8471 rows into 'bmi'\n",
      "Recreated table 'bp'\n",
      "Inserted 7518 rows into 'bp'\n",
      "Recreated table 'total_cholestrol'\n",
      "Inserted 6890 rows into 'total_cholestrol'\n",
      "Recreated table 'glucose'\n",
      "Dropping columns not in table 'glucose': ['fasting_glucose_mmol_l']\n",
      "Inserted 3360 rows into 'glucose'\n",
      "Recreated table 'diabetes'\n",
      "Inserted 11744 rows into 'diabetes'\n",
      "Recreated table 'cardio_vascular'\n",
      "Inserted 11744 rows into 'cardio_vascular'\n"
     ]
    }
   ],
   "source": [
    "\n",
    "# Save data\n",
    "save_to_sqlite(df=dataframes[\"demographics\"], conn=conn, table_name=\"demographics\", recreate=True)\n",
    "save_to_sqlite(df=dataframes[\"sleep\"], conn=conn, table_name=\"sleep\", recreate=True)\n",
    "save_to_sqlite(df=dataframes[\"diet\"], conn=conn, table_name=\"diet\", recreate=True)\n",
    "save_to_sqlite(df=dataframes[\"physical_activity\"], conn=conn, table_name=\"physical_activity\", recreate=True)\n",
    "save_to_sqlite(df=dataframes[\"health_insurance\"], conn=conn, table_name=\"health_insurance\", recreate=True)\n",
    "\n",
    "save_to_sqlite(df=dataframes[\"bmi\"], conn=conn, table_name=\"bmi\", recreate=True)\n",
    "save_to_sqlite(df=dataframes[\"bp\"], conn=conn, table_name=\"bp\", recreate=True)\n",
    "save_to_sqlite(df=dataframes[\"total_cholestrol\"], conn=conn, table_name=\"total_cholestrol\", recreate=True)\n",
    "save_to_sqlite(df=dataframes[\"glucose\"], conn=conn, table_name=\"glucose\", recreate=True)\n",
    "save_to_sqlite(df=dataframes[\"diabetes\"], conn=conn, table_name=\"diabetes\", recreate=True)\n",
    "save_to_sqlite(df=dataframes[\"cardio_vascular\"], conn=conn, table_name=\"cardio_vascular\", recreate=True)\n",
    "\n",
    "\n"
   ]
  },
  {
   "cell_type": "markdown",
   "id": "1bcfb42d",
   "metadata": {},
   "source": [
    "### Step 7: Check point"
   ]
  },
  {
   "cell_type": "code",
   "execution_count": 9,
   "id": "c86bd209",
   "metadata": {},
   "outputs": [
    {
     "name": "stdout",
     "output_type": "stream",
     "text": [
      "  participant_id  gender  age      race_ethnicity            education_level  \\\n",
      "0         130378    Male   43  Non-Hispanic Asian  College graduate or above   \n",
      "1         130379    Male   66  Non-Hispanic White  College graduate or above   \n",
      "2         130380  Female   44      Other Hispanic            High school/GED   \n",
      "3         130386    Male   34    Mexican American     Some college/AA degree   \n",
      "4         130387  Female   68  Non-Hispanic White  College graduate or above   \n",
      "\n",
      "   poverty_income_ratio  interview_sample_weight  exam_sample_weight  strata  \\\n",
      "0                  5.00             50055.450807        54374.463898   173.0   \n",
      "1                  5.00             29087.450605        34084.721548   173.0   \n",
      "2                  1.41             80062.674301        81196.277992   174.0   \n",
      "3                  1.33             30995.282610        39988.452940   179.0   \n",
      "4                  1.32             19896.970559        20776.254850   181.0   \n",
      "\n",
      "   psu pir_category  \n",
      "0  2.0    Very High  \n",
      "1  2.0    Very High  \n",
      "2  1.0          Mid  \n",
      "3  1.0          Mid  \n",
      "4  1.0          Mid  \n"
     ]
    }
   ],
   "source": [
    "from db_utils import run_query\n",
    "\n",
    "sample = run_query(conn, \"SELECT * FROM demographics LIMIT 5;\")\n",
    "print(sample)\n"
   ]
  },
  {
   "cell_type": "markdown",
   "id": "096d66ec",
   "metadata": {},
   "source": [
    "### Step 8: prepare the data for Objective 1.1 analysis using Sql query"
   ]
  },
  {
   "cell_type": "code",
   "execution_count": 10,
   "id": "bbb20bd6",
   "metadata": {},
   "outputs": [
    {
     "data": {
      "text/html": [
       "<div>\n",
       "<style scoped>\n",
       "    .dataframe tbody tr th:only-of-type {\n",
       "        vertical-align: middle;\n",
       "    }\n",
       "\n",
       "    .dataframe tbody tr th {\n",
       "        vertical-align: top;\n",
       "    }\n",
       "\n",
       "    .dataframe thead th {\n",
       "        text-align: right;\n",
       "    }\n",
       "</style>\n",
       "<table border=\"1\" class=\"dataframe\">\n",
       "  <thead>\n",
       "    <tr style=\"text-align: right;\">\n",
       "      <th></th>\n",
       "      <th>participant_id</th>\n",
       "      <th>age</th>\n",
       "      <th>gender</th>\n",
       "      <th>race_ethnicity</th>\n",
       "      <th>education_level</th>\n",
       "      <th>poverty_income_ratio</th>\n",
       "      <th>pir_category</th>\n",
       "      <th>interview_sample_weight</th>\n",
       "      <th>has_health_insurance</th>\n",
       "      <th>sleep_avg_hr</th>\n",
       "      <th>sleep_category</th>\n",
       "      <th>activity_level</th>\n",
       "      <th>total_weekly_min</th>\n",
       "      <th>diet_score</th>\n",
       "      <th>diet_category</th>\n",
       "    </tr>\n",
       "  </thead>\n",
       "  <tbody>\n",
       "    <tr>\n",
       "      <th>0</th>\n",
       "      <td>130378</td>\n",
       "      <td>43</td>\n",
       "      <td>Male</td>\n",
       "      <td>Non-Hispanic Asian</td>\n",
       "      <td>College graduate or above</td>\n",
       "      <td>5.00</td>\n",
       "      <td>Very High</td>\n",
       "      <td>50055.450807</td>\n",
       "      <td>Yes</td>\n",
       "      <td>9.357143</td>\n",
       "      <td>Long Sleep</td>\n",
       "      <td>Low active</td>\n",
       "      <td>135.0</td>\n",
       "      <td>1.0</td>\n",
       "      <td>Unhealthy</td>\n",
       "    </tr>\n",
       "    <tr>\n",
       "      <th>1</th>\n",
       "      <td>130379</td>\n",
       "      <td>66</td>\n",
       "      <td>Male</td>\n",
       "      <td>Non-Hispanic White</td>\n",
       "      <td>College graduate or above</td>\n",
       "      <td>5.00</td>\n",
       "      <td>Very High</td>\n",
       "      <td>29087.450605</td>\n",
       "      <td>Yes</td>\n",
       "      <td>9.000000</td>\n",
       "      <td>Normal Sleep</td>\n",
       "      <td>Moderately active</td>\n",
       "      <td>180.0</td>\n",
       "      <td>3.0</td>\n",
       "      <td>Healthy</td>\n",
       "    </tr>\n",
       "    <tr>\n",
       "      <th>2</th>\n",
       "      <td>130380</td>\n",
       "      <td>44</td>\n",
       "      <td>Female</td>\n",
       "      <td>Other Hispanic</td>\n",
       "      <td>High school/GED</td>\n",
       "      <td>1.41</td>\n",
       "      <td>Mid</td>\n",
       "      <td>80062.674301</td>\n",
       "      <td>Yes</td>\n",
       "      <td>8.285714</td>\n",
       "      <td>Normal Sleep</td>\n",
       "      <td>Low active</td>\n",
       "      <td>20.0</td>\n",
       "      <td>1.0</td>\n",
       "      <td>Unhealthy</td>\n",
       "    </tr>\n",
       "    <tr>\n",
       "      <th>3</th>\n",
       "      <td>130386</td>\n",
       "      <td>34</td>\n",
       "      <td>Male</td>\n",
       "      <td>Mexican American</td>\n",
       "      <td>Some college/AA degree</td>\n",
       "      <td>1.33</td>\n",
       "      <td>Mid</td>\n",
       "      <td>30995.282610</td>\n",
       "      <td>Yes</td>\n",
       "      <td>7.642857</td>\n",
       "      <td>Normal Sleep</td>\n",
       "      <td>Low active</td>\n",
       "      <td>30.0</td>\n",
       "      <td>3.0</td>\n",
       "      <td>Healthy</td>\n",
       "    </tr>\n",
       "    <tr>\n",
       "      <th>4</th>\n",
       "      <td>130387</td>\n",
       "      <td>68</td>\n",
       "      <td>Female</td>\n",
       "      <td>Non-Hispanic White</td>\n",
       "      <td>College graduate or above</td>\n",
       "      <td>1.32</td>\n",
       "      <td>Mid</td>\n",
       "      <td>19896.970559</td>\n",
       "      <td>Yes</td>\n",
       "      <td>3.571429</td>\n",
       "      <td>Short Sleep</td>\n",
       "      <td>None</td>\n",
       "      <td>NaN</td>\n",
       "      <td>1.0</td>\n",
       "      <td>Unhealthy</td>\n",
       "    </tr>\n",
       "  </tbody>\n",
       "</table>\n",
       "</div>"
      ],
      "text/plain": [
       "  participant_id  age  gender      race_ethnicity            education_level  \\\n",
       "0         130378   43    Male  Non-Hispanic Asian  College graduate or above   \n",
       "1         130379   66    Male  Non-Hispanic White  College graduate or above   \n",
       "2         130380   44  Female      Other Hispanic            High school/GED   \n",
       "3         130386   34    Male    Mexican American     Some college/AA degree   \n",
       "4         130387   68  Female  Non-Hispanic White  College graduate or above   \n",
       "\n",
       "   poverty_income_ratio pir_category  interview_sample_weight  \\\n",
       "0                  5.00    Very High             50055.450807   \n",
       "1                  5.00    Very High             29087.450605   \n",
       "2                  1.41          Mid             80062.674301   \n",
       "3                  1.33          Mid             30995.282610   \n",
       "4                  1.32          Mid             19896.970559   \n",
       "\n",
       "  has_health_insurance  sleep_avg_hr sleep_category     activity_level  \\\n",
       "0                  Yes      9.357143     Long Sleep         Low active   \n",
       "1                  Yes      9.000000   Normal Sleep  Moderately active   \n",
       "2                  Yes      8.285714   Normal Sleep         Low active   \n",
       "3                  Yes      7.642857   Normal Sleep         Low active   \n",
       "4                  Yes      3.571429    Short Sleep               None   \n",
       "\n",
       "   total_weekly_min  diet_score diet_category  \n",
       "0             135.0         1.0     Unhealthy  \n",
       "1             180.0         3.0       Healthy  \n",
       "2              20.0         1.0     Unhealthy  \n",
       "3              30.0         3.0       Healthy  \n",
       "4               NaN         1.0     Unhealthy  "
      ]
     },
     "execution_count": 10,
     "metadata": {},
     "output_type": "execute_result"
    }
   ],
   "source": [
    "join_query = \"\"\"\n",
    "SELECT\n",
    "    d.participant_id,\n",
    "    d.age,\n",
    "    d.gender,\n",
    "    d.race_ethnicity,\n",
    "    d.education_level,\n",
    "    d.poverty_income_ratio,\n",
    "    d.pir_category,\n",
    "    d.interview_sample_weight,    \n",
    "    i.has_health_insurance,\n",
    "    s.sleep_avg_hr,\n",
    "    s.sleep_category,\n",
    "    p.activity_level,\n",
    "    p.total_weekly_min,\n",
    "    di.diet_score,\n",
    "    di.diet_category\n",
    "FROM demographics d\n",
    "LEFT JOIN health_insurance i ON d.participant_id = i.participant_id\n",
    "LEFT JOIN sleep s ON d.participant_id = s.participant_id\n",
    "LEFT JOIN physical_activity p ON d.participant_id = p.participant_id\n",
    "LEFT JOIN diet di ON d.participant_id = di.participant_id\n",
    "\"\"\"\n",
    "\n",
    "ls_sei_df = run_query(conn, join_query) # ls_sei - lifestyle and socio-economic indicator\n",
    "\n",
    "ls_sei_df.head()"
   ]
  },
  {
   "cell_type": "markdown",
   "id": "4fb334a2",
   "metadata": {},
   "source": [
    "### Step 9: Check and Save the lifestyle and socio-economic Merged Data"
   ]
  },
  {
   "cell_type": "code",
   "execution_count": 11,
   "id": "a2c92660",
   "metadata": {},
   "outputs": [
    {
     "name": "stdout",
     "output_type": "stream",
     "text": [
      "(6064, 15)\n",
      "File saved successfully at: C:\\Users\\sahil\\Documents\\CodeYou-Project\\DA_Projects\\health_track\\data\\final\\lifestyle_socio_economic.csv\n"
     ]
    }
   ],
   "source": [
    "print(ls_sei_df.shape)\n",
    "# Define the output path\n",
    "output_path = FINAL_DATA_DIR / \"lifestyle_socio_economic.csv\"\n",
    "ls_sei_df.to_csv(FINAL_DATA_DIR / \"lifestyle_socio_economic.csv\", index=False)\n",
    "# Check if the file exists using pathlib\n",
    "if output_path.exists():\n",
    "    print(f\"File saved successfully at: {output_path}\")\n",
    "else:\n",
    "    print(f\"File was not saved at: {output_path}\")"
   ]
  },
  {
   "cell_type": "markdown",
   "id": "20af86c4",
   "metadata": {},
   "source": [
    "### Step 9: Prepare the full merged dataset for further analysing the objectives"
   ]
  },
  {
   "cell_type": "code",
   "execution_count": 12,
   "id": "20850a79",
   "metadata": {},
   "outputs": [
    {
     "data": {
      "text/html": [
       "<div>\n",
       "<style scoped>\n",
       "    .dataframe tbody tr th:only-of-type {\n",
       "        vertical-align: middle;\n",
       "    }\n",
       "\n",
       "    .dataframe tbody tr th {\n",
       "        vertical-align: top;\n",
       "    }\n",
       "\n",
       "    .dataframe thead th {\n",
       "        text-align: right;\n",
       "    }\n",
       "</style>\n",
       "<table border=\"1\" class=\"dataframe\">\n",
       "  <thead>\n",
       "    <tr style=\"text-align: right;\">\n",
       "      <th></th>\n",
       "      <th>participant_id</th>\n",
       "      <th>age</th>\n",
       "      <th>gender</th>\n",
       "      <th>race_ethnicity</th>\n",
       "      <th>education_level</th>\n",
       "      <th>poverty_income_ratio</th>\n",
       "      <th>pir_category</th>\n",
       "      <th>interview_sample_weight</th>\n",
       "      <th>has_health_insurance</th>\n",
       "      <th>sleep_avg_hr</th>\n",
       "      <th>...</th>\n",
       "      <th>diabetes_dx</th>\n",
       "      <th>diabetes_meds</th>\n",
       "      <th>diabetes_meds_cat</th>\n",
       "      <th>diabetes_status</th>\n",
       "      <th>congestive_heart_failure</th>\n",
       "      <th>coronary_heart_disease</th>\n",
       "      <th>angina</th>\n",
       "      <th>heart_attack</th>\n",
       "      <th>any_cvd</th>\n",
       "      <th>exam_sample_weight</th>\n",
       "    </tr>\n",
       "  </thead>\n",
       "  <tbody>\n",
       "    <tr>\n",
       "      <th>0</th>\n",
       "      <td>130378</td>\n",
       "      <td>43</td>\n",
       "      <td>Male</td>\n",
       "      <td>Non-Hispanic Asian</td>\n",
       "      <td>College graduate or above</td>\n",
       "      <td>5.00</td>\n",
       "      <td>Very High</td>\n",
       "      <td>50055.450807</td>\n",
       "      <td>Yes</td>\n",
       "      <td>9.357143</td>\n",
       "      <td>...</td>\n",
       "      <td>0.0</td>\n",
       "      <td>NaN</td>\n",
       "      <td>Unknown</td>\n",
       "      <td>0.0</td>\n",
       "      <td>0.0</td>\n",
       "      <td>0.0</td>\n",
       "      <td>0.0</td>\n",
       "      <td>0.0</td>\n",
       "      <td>0</td>\n",
       "      <td>54374.463898</td>\n",
       "    </tr>\n",
       "    <tr>\n",
       "      <th>1</th>\n",
       "      <td>130379</td>\n",
       "      <td>66</td>\n",
       "      <td>Male</td>\n",
       "      <td>Non-Hispanic White</td>\n",
       "      <td>College graduate or above</td>\n",
       "      <td>5.00</td>\n",
       "      <td>Very High</td>\n",
       "      <td>29087.450605</td>\n",
       "      <td>Yes</td>\n",
       "      <td>9.000000</td>\n",
       "      <td>...</td>\n",
       "      <td>0.0</td>\n",
       "      <td>NaN</td>\n",
       "      <td>Unknown</td>\n",
       "      <td>0.0</td>\n",
       "      <td>0.0</td>\n",
       "      <td>0.0</td>\n",
       "      <td>0.0</td>\n",
       "      <td>0.0</td>\n",
       "      <td>0</td>\n",
       "      <td>34084.721548</td>\n",
       "    </tr>\n",
       "    <tr>\n",
       "      <th>2</th>\n",
       "      <td>130380</td>\n",
       "      <td>44</td>\n",
       "      <td>Female</td>\n",
       "      <td>Other Hispanic</td>\n",
       "      <td>High school/GED</td>\n",
       "      <td>1.41</td>\n",
       "      <td>Mid</td>\n",
       "      <td>80062.674301</td>\n",
       "      <td>Yes</td>\n",
       "      <td>8.285714</td>\n",
       "      <td>...</td>\n",
       "      <td>1.0</td>\n",
       "      <td>1.0</td>\n",
       "      <td>Taking meds</td>\n",
       "      <td>1.0</td>\n",
       "      <td>0.0</td>\n",
       "      <td>0.0</td>\n",
       "      <td>0.0</td>\n",
       "      <td>0.0</td>\n",
       "      <td>0</td>\n",
       "      <td>81196.277992</td>\n",
       "    </tr>\n",
       "    <tr>\n",
       "      <th>3</th>\n",
       "      <td>130386</td>\n",
       "      <td>34</td>\n",
       "      <td>Male</td>\n",
       "      <td>Mexican American</td>\n",
       "      <td>Some college/AA degree</td>\n",
       "      <td>1.33</td>\n",
       "      <td>Mid</td>\n",
       "      <td>30995.282610</td>\n",
       "      <td>Yes</td>\n",
       "      <td>7.642857</td>\n",
       "      <td>...</td>\n",
       "      <td>0.0</td>\n",
       "      <td>NaN</td>\n",
       "      <td>Unknown</td>\n",
       "      <td>0.0</td>\n",
       "      <td>0.0</td>\n",
       "      <td>0.0</td>\n",
       "      <td>0.0</td>\n",
       "      <td>0.0</td>\n",
       "      <td>0</td>\n",
       "      <td>39988.452940</td>\n",
       "    </tr>\n",
       "    <tr>\n",
       "      <th>4</th>\n",
       "      <td>130387</td>\n",
       "      <td>68</td>\n",
       "      <td>Female</td>\n",
       "      <td>Non-Hispanic White</td>\n",
       "      <td>College graduate or above</td>\n",
       "      <td>1.32</td>\n",
       "      <td>Mid</td>\n",
       "      <td>19896.970559</td>\n",
       "      <td>Yes</td>\n",
       "      <td>3.571429</td>\n",
       "      <td>...</td>\n",
       "      <td>0.0</td>\n",
       "      <td>NaN</td>\n",
       "      <td>Unknown</td>\n",
       "      <td>0.0</td>\n",
       "      <td>0.0</td>\n",
       "      <td>0.0</td>\n",
       "      <td>0.0</td>\n",
       "      <td>0.0</td>\n",
       "      <td>0</td>\n",
       "      <td>20776.254850</td>\n",
       "    </tr>\n",
       "  </tbody>\n",
       "</table>\n",
       "<p>5 rows × 38 columns</p>\n",
       "</div>"
      ],
      "text/plain": [
       "  participant_id  age  gender      race_ethnicity            education_level  \\\n",
       "0         130378   43    Male  Non-Hispanic Asian  College graduate or above   \n",
       "1         130379   66    Male  Non-Hispanic White  College graduate or above   \n",
       "2         130380   44  Female      Other Hispanic            High school/GED   \n",
       "3         130386   34    Male    Mexican American     Some college/AA degree   \n",
       "4         130387   68  Female  Non-Hispanic White  College graduate or above   \n",
       "\n",
       "   poverty_income_ratio pir_category  interview_sample_weight  \\\n",
       "0                  5.00    Very High             50055.450807   \n",
       "1                  5.00    Very High             29087.450605   \n",
       "2                  1.41          Mid             80062.674301   \n",
       "3                  1.33          Mid             30995.282610   \n",
       "4                  1.32          Mid             19896.970559   \n",
       "\n",
       "  has_health_insurance  sleep_avg_hr  ... diabetes_dx diabetes_meds  \\\n",
       "0                  Yes      9.357143  ...         0.0           NaN   \n",
       "1                  Yes      9.000000  ...         0.0           NaN   \n",
       "2                  Yes      8.285714  ...         1.0           1.0   \n",
       "3                  Yes      7.642857  ...         0.0           NaN   \n",
       "4                  Yes      3.571429  ...         0.0           NaN   \n",
       "\n",
       "   diabetes_meds_cat  diabetes_status congestive_heart_failure  \\\n",
       "0            Unknown              0.0                      0.0   \n",
       "1            Unknown              0.0                      0.0   \n",
       "2        Taking meds              1.0                      0.0   \n",
       "3            Unknown              0.0                      0.0   \n",
       "4            Unknown              0.0                      0.0   \n",
       "\n",
       "   coronary_heart_disease  angina  heart_attack  any_cvd exam_sample_weight  \n",
       "0                     0.0     0.0           0.0        0       54374.463898  \n",
       "1                     0.0     0.0           0.0        0       34084.721548  \n",
       "2                     0.0     0.0           0.0        0       81196.277992  \n",
       "3                     0.0     0.0           0.0        0       39988.452940  \n",
       "4                     0.0     0.0           0.0        0       20776.254850  \n",
       "\n",
       "[5 rows x 38 columns]"
      ]
     },
     "execution_count": 12,
     "metadata": {},
     "output_type": "execute_result"
    }
   ],
   "source": [
    "remaining_tables = [\n",
    "    \"bmi\",\n",
    "    \"bp\",\n",
    "    \"total_cholestrol\",\n",
    "    \"glucose\",\n",
    "    \"diabetes\",\n",
    "    \"cardio_vascular\"\n",
    "]\n",
    "nhanes_df = ls_sei_df.copy()\n",
    "\n",
    "for table in remaining_tables:\n",
    "    df = pd.read_sql_query(f\"SELECT * FROM {table}\", conn)\n",
    "    \n",
    "    if 'participant_id' not in df.columns:\n",
    "        raise KeyError(f\"'participant_id' not found in table '{table}'\")\n",
    "    \n",
    "    nhanes_df = pd.merge(nhanes_df, df, on=\"participant_id\", how=\"left\")\n",
    "\n",
    "# Merge exam_sample_weight from demographics table\n",
    "query = \"SELECT participant_id, exam_sample_weight FROM demographics\"\n",
    "demo_df = run_query(conn, query)\n",
    "\n",
    "# Safety check\n",
    "if 'participant_id' not in demo_df.columns:\n",
    "    raise KeyError(\"'participant_id' not found in 'demographics' table\")\n",
    "\n",
    "# Merge with your main NHANES dataframe\n",
    "nhanes_df = pd.merge(nhanes_df, demo_df, on=\"participant_id\", how=\"left\")\n",
    "\n",
    "nhanes_df.head()\n"
   ]
  },
  {
   "cell_type": "markdown",
   "id": "c1b3ed02",
   "metadata": {},
   "source": [
    "### Step 10: Check and Save the full NHANES Data"
   ]
  },
  {
   "cell_type": "code",
   "execution_count": 13,
   "id": "1cb93efa",
   "metadata": {},
   "outputs": [
    {
     "name": "stdout",
     "output_type": "stream",
     "text": [
      "(6064, 38)\n",
      "File saved successfully at: C:\\Users\\sahil\\Documents\\CodeYou-Project\\DA_Projects\\health_track\\data\\final\\final_merged_nhanes_dataset.csv\n"
     ]
    }
   ],
   "source": [
    "print(nhanes_df.shape)\n",
    "# Define the output path\n",
    "output_path = FINAL_DATA_DIR / \"final_merged_nhanes_dataset.csv\"\n",
    "nhanes_df.to_csv(FINAL_DATA_DIR / \"final_merged_nhanes_dataset.csv\", index=False)\n",
    "# Check if the file exists using pathlib\n",
    "if output_path.exists():\n",
    "    print(f\"File saved successfully at: {output_path}\")\n",
    "else:\n",
    "    print(f\"File was not saved at: {output_path}\")"
   ]
  },
  {
   "cell_type": "markdown",
   "id": "5a30322f",
   "metadata": {},
   "source": [
    "### Step 8: Close the database connection"
   ]
  },
  {
   "cell_type": "code",
   "execution_count": 14,
   "id": "c6e708f0",
   "metadata": {},
   "outputs": [
    {
     "name": "stdout",
     "output_type": "stream",
     "text": [
      "Database connection closed.\n"
     ]
    }
   ],
   "source": [
    "close_connection(conn)"
   ]
  }
 ],
 "metadata": {
  "kernelspec": {
   "display_name": "venv",
   "language": "python",
   "name": "python3"
  },
  "language_info": {
   "codemirror_mode": {
    "name": "ipython",
    "version": 3
   },
   "file_extension": ".py",
   "mimetype": "text/x-python",
   "name": "python",
   "nbconvert_exporter": "python",
   "pygments_lexer": "ipython3",
   "version": "3.13.1"
  }
 },
 "nbformat": 4,
 "nbformat_minor": 5
}
