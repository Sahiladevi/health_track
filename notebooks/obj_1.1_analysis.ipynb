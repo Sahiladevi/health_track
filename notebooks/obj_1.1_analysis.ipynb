{
 "cells": [
  {
   "cell_type": "markdown",
   "id": "eed27d1a",
   "metadata": {},
   "source": [
    "# Objective 1.1: Characterize distributions of lifestyle behaviors and socioeconomic indicators.\n",
    "- To describe how lifestyle (physical activity, sleep, diet) and socioeconomic factors (income, education, insurance) are distributed in the population. "
   ]
  },
  {
   "cell_type": "markdown",
   "id": "c87e2a95",
   "metadata": {},
   "source": [
    "## Step 1: Import and Set Up"
   ]
  },
  {
   "cell_type": "markdown",
   "id": "887ac1af",
   "metadata": {},
   "source": [
    "***Environment Setup and Library Imports***\n",
    "\n",
    "I started by importing libraries for data handling (pandas), plotting (matplotlib, seaborn, plotly, and squarify), weighted statistics (statsmodels), and some utilities for working with text and displaying output nicely in Jupyter.\n",
    "\n",
    "Then, I added the project’s root folder to the Python path so I could import custom helper functions and configuration settings from the scripts directory.\n",
    "\n",
    "Finally, I set pandas options to format floats consistently and show all columns in dataframes, making data easier to read throughout the session.\n",
    "\n",
    "Everything’s now ready for exploring and visualizing the data."
   ]
  },
  {
   "cell_type": "code",
   "execution_count": 1,
   "id": "dca6f686",
   "metadata": {},
   "outputs": [
    {
     "name": "stdout",
     "output_type": "stream",
     "text": [
      "Setup complete.\n"
     ]
    }
   ],
   "source": [
    "import pandas as pd\n",
    "from pathlib import Path\n",
    "import matplotlib.pyplot as plt\n",
    "import seaborn as sns\n",
    "import plotly.express as px\n",
    "import sys\n",
    "import squarify\n",
    "from statsmodels.stats.weightstats import DescrStatsW\n",
    "import re\n",
    "from IPython.display import display \n",
    "\n",
    "# Add project root (parent of 'scripts') to sys.path\n",
    "current_dir = Path().resolve() \n",
    "project_root = current_dir.parent\n",
    "if str(project_root) not in sys.path:\n",
    "    sys.path.append(str(project_root))\n",
    "\n",
    "# Import modules using full paths\n",
    "from scripts.utils import pretty_path, explore_data\n",
    "from scripts.config import FINAL_DATA_DIR, PLOTS_DIR, SUMMARY_DIR\n",
    "\n",
    "# Set pandas float display format for the entire session\n",
    "pd.options.display.float_format = '{:,.2f}'.format\n",
    "\n",
    "# Display full columns in pandas\n",
    "pd.set_option('display.max_columns', None)\n",
    "\n",
    "print(\"Setup complete.\")"
   ]
  },
  {
   "cell_type": "markdown",
   "id": "af04ba98",
   "metadata": {},
   "source": [
    "## Step 2: Load the lifestyle and socio-economic csv file for analysing the Objective 1.1"
   ]
  },
  {
   "cell_type": "markdown",
   "id": "33b4a30f",
   "metadata": {},
   "source": [
    "***Loading and Previewing the Final Merged Dataset***\n",
    "\n",
    "I loaded the final merged lifestyle and socio-economic data from a CSV file into a DataFrame. Before doing so, I checked that the file exists to avoid errors. After successfully loading the data, I previewed the first few rows to get an initial look at the dataset’s structure and contents."
   ]
  },
  {
   "cell_type": "code",
   "execution_count": 2,
   "id": "d8b54cfa",
   "metadata": {},
   "outputs": [
    {
     "data": {
      "text/html": [
       "<div>\n",
       "<style scoped>\n",
       "    .dataframe tbody tr th:only-of-type {\n",
       "        vertical-align: middle;\n",
       "    }\n",
       "\n",
       "    .dataframe tbody tr th {\n",
       "        vertical-align: top;\n",
       "    }\n",
       "\n",
       "    .dataframe thead th {\n",
       "        text-align: right;\n",
       "    }\n",
       "</style>\n",
       "<table border=\"1\" class=\"dataframe\">\n",
       "  <thead>\n",
       "    <tr style=\"text-align: right;\">\n",
       "      <th></th>\n",
       "      <th>participant_id</th>\n",
       "      <th>age</th>\n",
       "      <th>gender</th>\n",
       "      <th>race_ethnicity</th>\n",
       "      <th>education_level</th>\n",
       "      <th>poverty_income_ratio</th>\n",
       "      <th>pir_category</th>\n",
       "      <th>interview_sample_weight</th>\n",
       "      <th>psu</th>\n",
       "      <th>strata</th>\n",
       "      <th>has_health_insurance</th>\n",
       "      <th>sleep_avg_hr</th>\n",
       "      <th>sleep_category</th>\n",
       "      <th>activity_level</th>\n",
       "      <th>total_weekly_min</th>\n",
       "      <th>hei_score</th>\n",
       "      <th>diet_score_category</th>\n",
       "      <th>total_diet_weight</th>\n",
       "      <th>food_item_weight</th>\n",
       "    </tr>\n",
       "  </thead>\n",
       "  <tbody>\n",
       "    <tr>\n",
       "      <th>0</th>\n",
       "      <td>130378</td>\n",
       "      <td>43</td>\n",
       "      <td>Male</td>\n",
       "      <td>Non-Hispanic Asian</td>\n",
       "      <td>College graduate or above</td>\n",
       "      <td>5.00</td>\n",
       "      <td>Very High</td>\n",
       "      <td>50,055.45</td>\n",
       "      <td>2.00</td>\n",
       "      <td>173.00</td>\n",
       "      <td>Yes</td>\n",
       "      <td>9.36</td>\n",
       "      <td>Long Sleep</td>\n",
       "      <td>Low active</td>\n",
       "      <td>135.00</td>\n",
       "      <td>41.57</td>\n",
       "      <td>Poor</td>\n",
       "      <td>61,366.56</td>\n",
       "      <td>675,032.11</td>\n",
       "    </tr>\n",
       "    <tr>\n",
       "      <th>1</th>\n",
       "      <td>130379</td>\n",
       "      <td>66</td>\n",
       "      <td>Male</td>\n",
       "      <td>Non-Hispanic White</td>\n",
       "      <td>College graduate or above</td>\n",
       "      <td>5.00</td>\n",
       "      <td>Very High</td>\n",
       "      <td>29,087.45</td>\n",
       "      <td>2.00</td>\n",
       "      <td>173.00</td>\n",
       "      <td>Yes</td>\n",
       "      <td>9.00</td>\n",
       "      <td>Normal Sleep</td>\n",
       "      <td>Moderately active</td>\n",
       "      <td>180.00</td>\n",
       "      <td>70.28</td>\n",
       "      <td>Needs Improvement</td>\n",
       "      <td>34,638.06</td>\n",
       "      <td>588,846.96</td>\n",
       "    </tr>\n",
       "    <tr>\n",
       "      <th>2</th>\n",
       "      <td>130380</td>\n",
       "      <td>44</td>\n",
       "      <td>Female</td>\n",
       "      <td>Other Hispanic</td>\n",
       "      <td>High school/GED</td>\n",
       "      <td>1.41</td>\n",
       "      <td>Mid</td>\n",
       "      <td>80,062.67</td>\n",
       "      <td>1.00</td>\n",
       "      <td>174.00</td>\n",
       "      <td>Yes</td>\n",
       "      <td>8.29</td>\n",
       "      <td>Normal Sleep</td>\n",
       "      <td>Low active</td>\n",
       "      <td>20.00</td>\n",
       "      <td>56.10</td>\n",
       "      <td>Poor</td>\n",
       "      <td>84,728.26</td>\n",
       "      <td>1,101,467.40</td>\n",
       "    </tr>\n",
       "    <tr>\n",
       "      <th>3</th>\n",
       "      <td>130386</td>\n",
       "      <td>34</td>\n",
       "      <td>Male</td>\n",
       "      <td>Mexican American</td>\n",
       "      <td>Some college/AA degree</td>\n",
       "      <td>1.33</td>\n",
       "      <td>Mid</td>\n",
       "      <td>30,995.28</td>\n",
       "      <td>1.00</td>\n",
       "      <td>179.00</td>\n",
       "      <td>Yes</td>\n",
       "      <td>7.64</td>\n",
       "      <td>Normal Sleep</td>\n",
       "      <td>Low active</td>\n",
       "      <td>30.00</td>\n",
       "      <td>36.88</td>\n",
       "      <td>Poor</td>\n",
       "      <td>82,013.37</td>\n",
       "      <td>738,120.29</td>\n",
       "    </tr>\n",
       "    <tr>\n",
       "      <th>4</th>\n",
       "      <td>130387</td>\n",
       "      <td>68</td>\n",
       "      <td>Female</td>\n",
       "      <td>Non-Hispanic White</td>\n",
       "      <td>College graduate or above</td>\n",
       "      <td>1.32</td>\n",
       "      <td>Mid</td>\n",
       "      <td>19,896.97</td>\n",
       "      <td>1.00</td>\n",
       "      <td>181.00</td>\n",
       "      <td>Yes</td>\n",
       "      <td>3.57</td>\n",
       "      <td>Short Sleep</td>\n",
       "      <td>NaN</td>\n",
       "      <td>NaN</td>\n",
       "      <td>53.56</td>\n",
       "      <td>Poor</td>\n",
       "      <td>20,032.62</td>\n",
       "      <td>420,684.93</td>\n",
       "    </tr>\n",
       "  </tbody>\n",
       "</table>\n",
       "</div>"
      ],
      "text/plain": [
       "   participant_id  age  gender      race_ethnicity            education_level  \\\n",
       "0          130378   43    Male  Non-Hispanic Asian  College graduate or above   \n",
       "1          130379   66    Male  Non-Hispanic White  College graduate or above   \n",
       "2          130380   44  Female      Other Hispanic            High school/GED   \n",
       "3          130386   34    Male    Mexican American     Some college/AA degree   \n",
       "4          130387   68  Female  Non-Hispanic White  College graduate or above   \n",
       "\n",
       "   poverty_income_ratio pir_category  interview_sample_weight  psu  strata  \\\n",
       "0                  5.00    Very High                50,055.45 2.00  173.00   \n",
       "1                  5.00    Very High                29,087.45 2.00  173.00   \n",
       "2                  1.41          Mid                80,062.67 1.00  174.00   \n",
       "3                  1.33          Mid                30,995.28 1.00  179.00   \n",
       "4                  1.32          Mid                19,896.97 1.00  181.00   \n",
       "\n",
       "  has_health_insurance  sleep_avg_hr sleep_category     activity_level  \\\n",
       "0                  Yes          9.36     Long Sleep         Low active   \n",
       "1                  Yes          9.00   Normal Sleep  Moderately active   \n",
       "2                  Yes          8.29   Normal Sleep         Low active   \n",
       "3                  Yes          7.64   Normal Sleep         Low active   \n",
       "4                  Yes          3.57    Short Sleep                NaN   \n",
       "\n",
       "   total_weekly_min  hei_score diet_score_category  total_diet_weight  \\\n",
       "0            135.00      41.57                Poor          61,366.56   \n",
       "1            180.00      70.28   Needs Improvement          34,638.06   \n",
       "2             20.00      56.10                Poor          84,728.26   \n",
       "3             30.00      36.88                Poor          82,013.37   \n",
       "4               NaN      53.56                Poor          20,032.62   \n",
       "\n",
       "   food_item_weight  \n",
       "0        675,032.11  \n",
       "1        588,846.96  \n",
       "2      1,101,467.40  \n",
       "3        738,120.29  \n",
       "4        420,684.93  "
      ]
     },
     "execution_count": 2,
     "metadata": {},
     "output_type": "execute_result"
    }
   ],
   "source": [
    "# Read the csv file into the dataframe\n",
    "\n",
    "file_path = FINAL_DATA_DIR / \"final_merged_lifestyle_socio_economic.csv\"\n",
    "if not file_path.exists():\n",
    "    raise FileNotFoundError(f\"File not found:{pretty_path(file_path)}\")\n",
    "df = pd.read_csv(file_path)\n",
    "\n",
    "# preview the first few rows of a DataFrame.\n",
    "df.head()"
   ]
  },
  {
   "cell_type": "markdown",
   "id": "cc678ccd",
   "metadata": {},
   "source": [
    "***Exploring the Final Merged NHANES Dataset***\n",
    "\n",
    "I began by exploring the final merged NHANES dataset, which brings together all relevant participant information — including demographics, lifestyle behaviors, dietary patterns, and health indicators like BMI.\n",
    "\n",
    "This step helps verify that the data is clean, complete, and ready for analysis. By reviewing the structure, missing values, and basic distributions, I ensured that the dataset is in good shape for running meaningful models and visualizations."
   ]
  },
  {
   "cell_type": "code",
   "execution_count": 3,
   "id": "a4ef494a",
   "metadata": {},
   "outputs": [
    {
     "name": "stdout",
     "output_type": "stream",
     "text": [
      "Exploring final merged NHANES data..\n",
      "\n",
      "--- Exploring Dataset ---\n",
      "Shape: (6064, 19)\n",
      "\n",
      "First 5 rows:\n",
      "   participant_id  age  gender      race_ethnicity            education_level  \\\n",
      "0          130378   43    Male  Non-Hispanic Asian  College graduate or above   \n",
      "1          130379   66    Male  Non-Hispanic White  College graduate or above   \n",
      "2          130380   44  Female      Other Hispanic            High school/GED   \n",
      "3          130386   34    Male    Mexican American     Some college/AA degree   \n",
      "4          130387   68  Female  Non-Hispanic White  College graduate or above   \n",
      "\n",
      "   poverty_income_ratio pir_category  interview_sample_weight  psu  strata  \\\n",
      "0                  5.00    Very High                50,055.45 2.00  173.00   \n",
      "1                  5.00    Very High                29,087.45 2.00  173.00   \n",
      "2                  1.41          Mid                80,062.67 1.00  174.00   \n",
      "3                  1.33          Mid                30,995.28 1.00  179.00   \n",
      "4                  1.32          Mid                19,896.97 1.00  181.00   \n",
      "\n",
      "  has_health_insurance  sleep_avg_hr sleep_category     activity_level  \\\n",
      "0                  Yes          9.36     Long Sleep         Low active   \n",
      "1                  Yes          9.00   Normal Sleep  Moderately active   \n",
      "2                  Yes          8.29   Normal Sleep         Low active   \n",
      "3                  Yes          7.64   Normal Sleep         Low active   \n",
      "4                  Yes          3.57    Short Sleep                NaN   \n",
      "\n",
      "   total_weekly_min  hei_score diet_score_category  total_diet_weight  \\\n",
      "0            135.00      41.57                Poor          61,366.56   \n",
      "1            180.00      70.28   Needs Improvement          34,638.06   \n",
      "2             20.00      56.10                Poor          84,728.26   \n",
      "3             30.00      36.88                Poor          82,013.37   \n",
      "4               NaN      53.56                Poor          20,032.62   \n",
      "\n",
      "   food_item_weight  \n",
      "0        675,032.11  \n",
      "1        588,846.96  \n",
      "2      1,101,467.40  \n",
      "3        738,120.29  \n",
      "4        420,684.93  \n",
      "\n",
      "Info:\n",
      "<class 'pandas.core.frame.DataFrame'>\n",
      "RangeIndex: 6064 entries, 0 to 6063\n",
      "Data columns (total 19 columns):\n",
      " #   Column                   Non-Null Count  Dtype  \n",
      "---  ------                   --------------  -----  \n",
      " 0   participant_id           6064 non-null   int64  \n",
      " 1   age                      6064 non-null   int64  \n",
      " 2   gender                   6064 non-null   object \n",
      " 3   race_ethnicity           6064 non-null   object \n",
      " 4   education_level          6064 non-null   object \n",
      " 5   poverty_income_ratio     6064 non-null   float64\n",
      " 6   pir_category             6064 non-null   object \n",
      " 7   interview_sample_weight  6064 non-null   float64\n",
      " 8   psu                      6064 non-null   float64\n",
      " 9   strata                   6064 non-null   float64\n",
      " 10  has_health_insurance     6055 non-null   object \n",
      " 11  sleep_avg_hr             5987 non-null   float64\n",
      " 12  sleep_category           5987 non-null   object \n",
      " 13  activity_level           4449 non-null   object \n",
      " 14  total_weekly_min         4449 non-null   float64\n",
      " 15  hei_score                4793 non-null   float64\n",
      " 16  diet_score_category      4793 non-null   object \n",
      " 17  total_diet_weight        4793 non-null   float64\n",
      " 18  food_item_weight         4793 non-null   float64\n",
      "dtypes: float64(9), int64(2), object(8)\n",
      "memory usage: 900.3+ KB\n",
      "\n",
      "Data types:\n",
      "participant_id               int64\n",
      "age                          int64\n",
      "gender                      object\n",
      "race_ethnicity              object\n",
      "education_level             object\n",
      "poverty_income_ratio       float64\n",
      "pir_category                object\n",
      "interview_sample_weight    float64\n",
      "psu                        float64\n",
      "strata                     float64\n",
      "has_health_insurance        object\n",
      "sleep_avg_hr               float64\n",
      "sleep_category              object\n",
      "activity_level              object\n",
      "total_weekly_min           float64\n",
      "hei_score                  float64\n",
      "diet_score_category         object\n",
      "total_diet_weight          float64\n",
      "food_item_weight           float64\n",
      "dtype: object\n",
      "\n",
      "Summary statistics (including categorical):\n",
      "                           count unique                        top  freq  \\\n",
      "participant_id          6,064.00    NaN                        NaN   NaN   \n",
      "age                     6,064.00    NaN                        NaN   NaN   \n",
      "gender                      6064      2                     Female  3344   \n",
      "race_ethnicity              6064      6         Non-Hispanic White  3569   \n",
      "education_level             6064      6  College graduate or above  2143   \n",
      "poverty_income_ratio    6,064.00    NaN                        NaN   NaN   \n",
      "pir_category                6064      4                       High  2396   \n",
      "interview_sample_weight 6,064.00    NaN                        NaN   NaN   \n",
      "psu                     6,064.00    NaN                        NaN   NaN   \n",
      "strata                  6,064.00    NaN                        NaN   NaN   \n",
      "has_health_insurance        6055      2                        Yes  5557   \n",
      "sleep_avg_hr            5,987.00    NaN                        NaN   NaN   \n",
      "sleep_category              5987      3               Normal Sleep  4626   \n",
      "activity_level              4449      3                 Low active  2249   \n",
      "total_weekly_min        4,449.00    NaN                        NaN   NaN   \n",
      "hei_score               4,793.00    NaN                        NaN   NaN   \n",
      "diet_score_category         4793      3                       Poor  3846   \n",
      "total_diet_weight       4,793.00    NaN                        NaN   NaN   \n",
      "food_item_weight        4,793.00    NaN                        NaN   NaN   \n",
      "\n",
      "                              mean        std        min        25%  \\\n",
      "participant_id          136,346.30   3,437.86 130,378.00 133,335.50   \n",
      "age                          53.85      17.18      20.00      39.00   \n",
      "gender                         NaN        NaN        NaN        NaN   \n",
      "race_ethnicity                 NaN        NaN        NaN        NaN   \n",
      "education_level                NaN        NaN        NaN        NaN   \n",
      "poverty_income_ratio          2.91       1.61       0.01       1.47   \n",
      "pir_category                   NaN        NaN        NaN        NaN   \n",
      "interview_sample_weight  31,141.06  21,497.97   4,584.46  16,205.32   \n",
      "psu                           1.49       0.50       1.00       1.00   \n",
      "strata                      179.70       4.26     173.00     176.00   \n",
      "has_health_insurance           NaN        NaN        NaN        NaN   \n",
      "sleep_avg_hr                  7.82       1.46       1.00       7.00   \n",
      "sleep_category                 NaN        NaN        NaN        NaN   \n",
      "activity_level                 NaN        NaN        NaN        NaN   \n",
      "total_weekly_min            212.40     239.20       0.19      60.00   \n",
      "hei_score                    48.50      13.36      13.28      38.71   \n",
      "diet_score_category            NaN        NaN        NaN        NaN   \n",
      "total_diet_weight        51,036.63  43,100.53   5,708.63  23,540.47   \n",
      "food_item_weight        657,201.87 609,430.12  10,593.77 279,792.05   \n",
      "\n",
      "                               50%        75%          max  \n",
      "participant_id          136,391.00 139,304.25   142,310.00  \n",
      "age                          57.00      68.00        80.00  \n",
      "gender                         NaN        NaN          NaN  \n",
      "race_ethnicity                 NaN        NaN          NaN  \n",
      "education_level                NaN        NaN          NaN  \n",
      "poverty_income_ratio          2.78       4.92         5.00  \n",
      "pir_category                   NaN        NaN          NaN  \n",
      "interview_sample_weight  24,991.21  38,497.55   170,968.34  \n",
      "psu                           1.00       2.00         2.00  \n",
      "strata                      180.00     183.00       187.00  \n",
      "has_health_insurance           NaN        NaN          NaN  \n",
      "sleep_avg_hr                  8.00       8.64        13.07  \n",
      "sleep_category                 NaN        NaN          NaN  \n",
      "activity_level                 NaN        NaN          NaN  \n",
      "total_weekly_min            140.00     270.00     3,360.00  \n",
      "hei_score                    47.21      57.34        96.83  \n",
      "diet_score_category            NaN        NaN          NaN  \n",
      "total_diet_weight        37,411.94  63,079.99   408,505.81  \n",
      "food_item_weight        473,358.92 819,320.30 6,281,097.80  \n",
      "\n",
      "Missing values per column:\n",
      "participant_id                0\n",
      "age                           0\n",
      "gender                        0\n",
      "race_ethnicity                0\n",
      "education_level               0\n",
      "poverty_income_ratio          0\n",
      "pir_category                  0\n",
      "interview_sample_weight       0\n",
      "psu                           0\n",
      "strata                        0\n",
      "has_health_insurance          9\n",
      "sleep_avg_hr                 77\n",
      "sleep_category               77\n",
      "activity_level             1615\n",
      "total_weekly_min           1615\n",
      "hei_score                  1271\n",
      "diet_score_category        1271\n",
      "total_diet_weight          1271\n",
      "food_item_weight           1271\n",
      "dtype: int64\n",
      "\n",
      "Column names:\n",
      "['participant_id', 'age', 'gender', 'race_ethnicity', 'education_level', 'poverty_income_ratio', 'pir_category', 'interview_sample_weight', 'psu', 'strata', 'has_health_insurance', 'sleep_avg_hr', 'sleep_category', 'activity_level', 'total_weekly_min', 'hei_score', 'diet_score_category', 'total_diet_weight', 'food_item_weight']\n",
      "\n",
      "Unique values per column:\n",
      "participant_id             6064\n",
      "age                          61\n",
      "gender                        2\n",
      "race_ethnicity                6\n",
      "education_level               6\n",
      "poverty_income_ratio        465\n",
      "pir_category                  4\n",
      "interview_sample_weight    5564\n",
      "psu                           2\n",
      "strata                       15\n",
      "has_health_insurance          2\n",
      "sleep_avg_hr                155\n",
      "sleep_category                3\n",
      "activity_level                3\n",
      "total_weekly_min            168\n",
      "hei_score                  4786\n",
      "diet_score_category           3\n",
      "total_diet_weight          4646\n",
      "food_item_weight           4787\n",
      "dtype: int64\n",
      "\n",
      "Duplicated rows count: 0\n",
      "\n",
      "Categorical columns: ['gender', 'race_ethnicity', 'education_level', 'pir_category', 'has_health_insurance', 'sleep_category', 'activity_level', 'diet_score_category']\n",
      "Numerical columns: ['participant_id', 'age', 'poverty_income_ratio', 'interview_sample_weight', 'psu', 'strata', 'sleep_avg_hr', 'total_weekly_min', 'hei_score', 'total_diet_weight', 'food_item_weight']\n",
      "----------------------------------------\n"
     ]
    }
   ],
   "source": [
    "# Explore and Understand the full merged NHANES Data\n",
    "print(\"Exploring final merged NHANES data..\")\n",
    "explore_data(df)"
   ]
  },
  {
   "cell_type": "markdown",
   "id": "297a2d6d",
   "metadata": {},
   "source": [
    "### Step 3: Data Analysis"
   ]
  },
  {
   "cell_type": "markdown",
   "id": "bdde8fbc",
   "metadata": {},
   "source": [
    " ***Helper function for excel***\n",
    " cleans up sheet names so they work in Excel. It gets rid of any weird characters and makes sure the name isn’t too long. That way, the sheet name won’t cause errors when you open the file."
   ]
  },
  {
   "cell_type": "code",
   "execution_count": 4,
   "id": "7471ac29",
   "metadata": {},
   "outputs": [],
   "source": [
    "# === Helper to clean Excel sheet names ===\n",
    "def clean_sheet_name(name):\n",
    "    # Remove invalid characters and trim to 31 characters\n",
    "    return re.sub(r\"[:\\\\/*?\\[\\]]\", \"_\", name)[:31]"
   ]
  },
  {
   "cell_type": "markdown",
   "id": "6a5c461a",
   "metadata": {},
   "source": [
    "### 1a. Descriptive Statistics (Unweighted)"
   ]
  },
  {
   "cell_type": "markdown",
   "id": "29763548",
   "metadata": {},
   "source": [
    "***Summary Statistics for Lifestyle and Socioeconomic Factors***\n",
    "\n",
    "I created a copy of the dataset to work with and generated summary tables describing key demographic, socioeconomic, and lifestyle variables. For categorical variables like gender, race/ethnicity, education, insurance, sleep category, activity level, and diet category, I calculated counts and percentages. For continuous variables like poverty income ratio, average sleep hours, physical activity minutes, and diet score, I summarized key statistics like mean and standard deviation.\n",
    "\n",
    "I stored all these summary tables in a dictionary and displayed them for quick review. Finally, I saved all the summaries as separate sheets in an Excel file for documentation and future reference."
   ]
  },
  {
   "cell_type": "code",
   "execution_count": 5,
   "id": "2f9a7064",
   "metadata": {},
   "outputs": [
    {
     "name": "stdout",
     "output_type": "stream",
     "text": [
      "\n",
      "=== Gender Distribution ===\n"
     ]
    },
    {
     "data": {
      "text/html": [
       "<div>\n",
       "<style scoped>\n",
       "    .dataframe tbody tr th:only-of-type {\n",
       "        vertical-align: middle;\n",
       "    }\n",
       "\n",
       "    .dataframe tbody tr th {\n",
       "        vertical-align: top;\n",
       "    }\n",
       "\n",
       "    .dataframe thead th {\n",
       "        text-align: right;\n",
       "    }\n",
       "</style>\n",
       "<table border=\"1\" class=\"dataframe\">\n",
       "  <thead>\n",
       "    <tr style=\"text-align: right;\">\n",
       "      <th></th>\n",
       "      <th>Count</th>\n",
       "      <th>Percent (%)</th>\n",
       "    </tr>\n",
       "    <tr>\n",
       "      <th>gender</th>\n",
       "      <th></th>\n",
       "      <th></th>\n",
       "    </tr>\n",
       "  </thead>\n",
       "  <tbody>\n",
       "    <tr>\n",
       "      <th>Female</th>\n",
       "      <td>3344</td>\n",
       "      <td>55.15</td>\n",
       "    </tr>\n",
       "    <tr>\n",
       "      <th>Male</th>\n",
       "      <td>2720</td>\n",
       "      <td>44.85</td>\n",
       "    </tr>\n",
       "  </tbody>\n",
       "</table>\n",
       "</div>"
      ],
      "text/plain": [
       "        Count  Percent (%)\n",
       "gender                    \n",
       "Female   3344        55.15\n",
       "Male     2720        44.85"
      ]
     },
     "metadata": {},
     "output_type": "display_data"
    },
    {
     "name": "stdout",
     "output_type": "stream",
     "text": [
      "\n",
      "=== Race/Ethnicity Distribution ===\n"
     ]
    },
    {
     "data": {
      "text/html": [
       "<div>\n",
       "<style scoped>\n",
       "    .dataframe tbody tr th:only-of-type {\n",
       "        vertical-align: middle;\n",
       "    }\n",
       "\n",
       "    .dataframe tbody tr th {\n",
       "        vertical-align: top;\n",
       "    }\n",
       "\n",
       "    .dataframe thead th {\n",
       "        text-align: right;\n",
       "    }\n",
       "</style>\n",
       "<table border=\"1\" class=\"dataframe\">\n",
       "  <thead>\n",
       "    <tr style=\"text-align: right;\">\n",
       "      <th></th>\n",
       "      <th>Count</th>\n",
       "      <th>Percent (%)</th>\n",
       "    </tr>\n",
       "    <tr>\n",
       "      <th>race_ethnicity</th>\n",
       "      <th></th>\n",
       "      <th></th>\n",
       "    </tr>\n",
       "  </thead>\n",
       "  <tbody>\n",
       "    <tr>\n",
       "      <th>Non-Hispanic White</th>\n",
       "      <td>3569</td>\n",
       "      <td>58.86</td>\n",
       "    </tr>\n",
       "    <tr>\n",
       "      <th>Non-Hispanic Black</th>\n",
       "      <td>753</td>\n",
       "      <td>12.42</td>\n",
       "    </tr>\n",
       "    <tr>\n",
       "      <th>Other Hispanic</th>\n",
       "      <td>614</td>\n",
       "      <td>10.13</td>\n",
       "    </tr>\n",
       "    <tr>\n",
       "      <th>Mexican American</th>\n",
       "      <td>405</td>\n",
       "      <td>6.68</td>\n",
       "    </tr>\n",
       "    <tr>\n",
       "      <th>Other/Multi-Racial</th>\n",
       "      <td>388</td>\n",
       "      <td>6.40</td>\n",
       "    </tr>\n",
       "    <tr>\n",
       "      <th>Non-Hispanic Asian</th>\n",
       "      <td>335</td>\n",
       "      <td>5.52</td>\n",
       "    </tr>\n",
       "  </tbody>\n",
       "</table>\n",
       "</div>"
      ],
      "text/plain": [
       "                    Count  Percent (%)\n",
       "race_ethnicity                        \n",
       "Non-Hispanic White   3569        58.86\n",
       "Non-Hispanic Black    753        12.42\n",
       "Other Hispanic        614        10.13\n",
       "Mexican American      405         6.68\n",
       "Other/Multi-Racial    388         6.40\n",
       "Non-Hispanic Asian    335         5.52"
      ]
     },
     "metadata": {},
     "output_type": "display_data"
    },
    {
     "name": "stdout",
     "output_type": "stream",
     "text": [
      "\n",
      "=== Education Level ===\n"
     ]
    },
    {
     "data": {
      "text/html": [
       "<div>\n",
       "<style scoped>\n",
       "    .dataframe tbody tr th:only-of-type {\n",
       "        vertical-align: middle;\n",
       "    }\n",
       "\n",
       "    .dataframe tbody tr th {\n",
       "        vertical-align: top;\n",
       "    }\n",
       "\n",
       "    .dataframe thead th {\n",
       "        text-align: right;\n",
       "    }\n",
       "</style>\n",
       "<table border=\"1\" class=\"dataframe\">\n",
       "  <thead>\n",
       "    <tr style=\"text-align: right;\">\n",
       "      <th></th>\n",
       "      <th>Count</th>\n",
       "      <th>Percent (%)</th>\n",
       "    </tr>\n",
       "    <tr>\n",
       "      <th>education_level</th>\n",
       "      <th></th>\n",
       "      <th></th>\n",
       "    </tr>\n",
       "  </thead>\n",
       "  <tbody>\n",
       "    <tr>\n",
       "      <th>College graduate or above</th>\n",
       "      <td>2143</td>\n",
       "      <td>35.34</td>\n",
       "    </tr>\n",
       "    <tr>\n",
       "      <th>Some college/AA degree</th>\n",
       "      <td>1846</td>\n",
       "      <td>30.44</td>\n",
       "    </tr>\n",
       "    <tr>\n",
       "      <th>High school/GED</th>\n",
       "      <td>1297</td>\n",
       "      <td>21.39</td>\n",
       "    </tr>\n",
       "    <tr>\n",
       "      <th>9-11th grade</th>\n",
       "      <td>482</td>\n",
       "      <td>7.95</td>\n",
       "    </tr>\n",
       "    <tr>\n",
       "      <th>&lt;9th grade</th>\n",
       "      <td>292</td>\n",
       "      <td>4.82</td>\n",
       "    </tr>\n",
       "    <tr>\n",
       "      <th>Missing</th>\n",
       "      <td>4</td>\n",
       "      <td>0.07</td>\n",
       "    </tr>\n",
       "  </tbody>\n",
       "</table>\n",
       "</div>"
      ],
      "text/plain": [
       "                           Count  Percent (%)\n",
       "education_level                              \n",
       "College graduate or above   2143        35.34\n",
       "Some college/AA degree      1846        30.44\n",
       "High school/GED             1297        21.39\n",
       "9-11th grade                 482         7.95\n",
       "<9th grade                   292         4.82\n",
       "Missing                        4         0.07"
      ]
     },
     "metadata": {},
     "output_type": "display_data"
    },
    {
     "name": "stdout",
     "output_type": "stream",
     "text": [
      "\n",
      "=== PIR Summary ===\n"
     ]
    },
    {
     "data": {
      "text/html": [
       "<div>\n",
       "<style scoped>\n",
       "    .dataframe tbody tr th:only-of-type {\n",
       "        vertical-align: middle;\n",
       "    }\n",
       "\n",
       "    .dataframe tbody tr th {\n",
       "        vertical-align: top;\n",
       "    }\n",
       "\n",
       "    .dataframe thead th {\n",
       "        text-align: right;\n",
       "    }\n",
       "</style>\n",
       "<table border=\"1\" class=\"dataframe\">\n",
       "  <thead>\n",
       "    <tr style=\"text-align: right;\">\n",
       "      <th></th>\n",
       "      <th>PIR Stats</th>\n",
       "    </tr>\n",
       "  </thead>\n",
       "  <tbody>\n",
       "    <tr>\n",
       "      <th>count</th>\n",
       "      <td>6,064.00</td>\n",
       "    </tr>\n",
       "    <tr>\n",
       "      <th>mean</th>\n",
       "      <td>2.91</td>\n",
       "    </tr>\n",
       "    <tr>\n",
       "      <th>std</th>\n",
       "      <td>1.61</td>\n",
       "    </tr>\n",
       "    <tr>\n",
       "      <th>min</th>\n",
       "      <td>0.01</td>\n",
       "    </tr>\n",
       "    <tr>\n",
       "      <th>25%</th>\n",
       "      <td>1.47</td>\n",
       "    </tr>\n",
       "    <tr>\n",
       "      <th>50%</th>\n",
       "      <td>2.78</td>\n",
       "    </tr>\n",
       "    <tr>\n",
       "      <th>75%</th>\n",
       "      <td>4.92</td>\n",
       "    </tr>\n",
       "    <tr>\n",
       "      <th>max</th>\n",
       "      <td>5.00</td>\n",
       "    </tr>\n",
       "  </tbody>\n",
       "</table>\n",
       "</div>"
      ],
      "text/plain": [
       "       PIR Stats\n",
       "count   6,064.00\n",
       "mean        2.91\n",
       "std         1.61\n",
       "min         0.01\n",
       "25%         1.47\n",
       "50%         2.78\n",
       "75%         4.92\n",
       "max         5.00"
      ]
     },
     "metadata": {},
     "output_type": "display_data"
    },
    {
     "name": "stdout",
     "output_type": "stream",
     "text": [
      "\n",
      "=== Health Insurance Coverage ===\n"
     ]
    },
    {
     "data": {
      "text/html": [
       "<div>\n",
       "<style scoped>\n",
       "    .dataframe tbody tr th:only-of-type {\n",
       "        vertical-align: middle;\n",
       "    }\n",
       "\n",
       "    .dataframe tbody tr th {\n",
       "        vertical-align: top;\n",
       "    }\n",
       "\n",
       "    .dataframe thead th {\n",
       "        text-align: right;\n",
       "    }\n",
       "</style>\n",
       "<table border=\"1\" class=\"dataframe\">\n",
       "  <thead>\n",
       "    <tr style=\"text-align: right;\">\n",
       "      <th></th>\n",
       "      <th>Count</th>\n",
       "      <th>Percent (%)</th>\n",
       "    </tr>\n",
       "    <tr>\n",
       "      <th>has_health_insurance</th>\n",
       "      <th></th>\n",
       "      <th></th>\n",
       "    </tr>\n",
       "  </thead>\n",
       "  <tbody>\n",
       "    <tr>\n",
       "      <th>Yes</th>\n",
       "      <td>5557</td>\n",
       "      <td>91.78</td>\n",
       "    </tr>\n",
       "    <tr>\n",
       "      <th>No</th>\n",
       "      <td>498</td>\n",
       "      <td>8.22</td>\n",
       "    </tr>\n",
       "  </tbody>\n",
       "</table>\n",
       "</div>"
      ],
      "text/plain": [
       "                      Count  Percent (%)\n",
       "has_health_insurance                    \n",
       "Yes                    5557        91.78\n",
       "No                      498         8.22"
      ]
     },
     "metadata": {},
     "output_type": "display_data"
    },
    {
     "name": "stdout",
     "output_type": "stream",
     "text": [
      "\n",
      "=== Sleep Summary ===\n"
     ]
    },
    {
     "data": {
      "text/html": [
       "<div>\n",
       "<style scoped>\n",
       "    .dataframe tbody tr th:only-of-type {\n",
       "        vertical-align: middle;\n",
       "    }\n",
       "\n",
       "    .dataframe tbody tr th {\n",
       "        vertical-align: top;\n",
       "    }\n",
       "\n",
       "    .dataframe thead th {\n",
       "        text-align: right;\n",
       "    }\n",
       "</style>\n",
       "<table border=\"1\" class=\"dataframe\">\n",
       "  <thead>\n",
       "    <tr style=\"text-align: right;\">\n",
       "      <th></th>\n",
       "      <th>Sleep Stats</th>\n",
       "    </tr>\n",
       "  </thead>\n",
       "  <tbody>\n",
       "    <tr>\n",
       "      <th>count</th>\n",
       "      <td>5,987.00</td>\n",
       "    </tr>\n",
       "    <tr>\n",
       "      <th>mean</th>\n",
       "      <td>7.82</td>\n",
       "    </tr>\n",
       "    <tr>\n",
       "      <th>std</th>\n",
       "      <td>1.46</td>\n",
       "    </tr>\n",
       "    <tr>\n",
       "      <th>min</th>\n",
       "      <td>1.00</td>\n",
       "    </tr>\n",
       "    <tr>\n",
       "      <th>25%</th>\n",
       "      <td>7.00</td>\n",
       "    </tr>\n",
       "    <tr>\n",
       "      <th>50%</th>\n",
       "      <td>8.00</td>\n",
       "    </tr>\n",
       "    <tr>\n",
       "      <th>75%</th>\n",
       "      <td>8.64</td>\n",
       "    </tr>\n",
       "    <tr>\n",
       "      <th>max</th>\n",
       "      <td>13.07</td>\n",
       "    </tr>\n",
       "  </tbody>\n",
       "</table>\n",
       "</div>"
      ],
      "text/plain": [
       "       Sleep Stats\n",
       "count     5,987.00\n",
       "mean          7.82\n",
       "std           1.46\n",
       "min           1.00\n",
       "25%           7.00\n",
       "50%           8.00\n",
       "75%           8.64\n",
       "max          13.07"
      ]
     },
     "metadata": {},
     "output_type": "display_data"
    },
    {
     "name": "stdout",
     "output_type": "stream",
     "text": [
      "\n",
      "=== Sleep Category ===\n"
     ]
    },
    {
     "data": {
      "text/html": [
       "<div>\n",
       "<style scoped>\n",
       "    .dataframe tbody tr th:only-of-type {\n",
       "        vertical-align: middle;\n",
       "    }\n",
       "\n",
       "    .dataframe tbody tr th {\n",
       "        vertical-align: top;\n",
       "    }\n",
       "\n",
       "    .dataframe thead th {\n",
       "        text-align: right;\n",
       "    }\n",
       "</style>\n",
       "<table border=\"1\" class=\"dataframe\">\n",
       "  <thead>\n",
       "    <tr style=\"text-align: right;\">\n",
       "      <th></th>\n",
       "      <th>Count</th>\n",
       "      <th>Percent (%)</th>\n",
       "    </tr>\n",
       "    <tr>\n",
       "      <th>sleep_category</th>\n",
       "      <th></th>\n",
       "      <th></th>\n",
       "    </tr>\n",
       "  </thead>\n",
       "  <tbody>\n",
       "    <tr>\n",
       "      <th>Normal Sleep</th>\n",
       "      <td>4626</td>\n",
       "      <td>77.27</td>\n",
       "    </tr>\n",
       "    <tr>\n",
       "      <th>Long Sleep</th>\n",
       "      <td>854</td>\n",
       "      <td>14.26</td>\n",
       "    </tr>\n",
       "    <tr>\n",
       "      <th>Short Sleep</th>\n",
       "      <td>507</td>\n",
       "      <td>8.47</td>\n",
       "    </tr>\n",
       "  </tbody>\n",
       "</table>\n",
       "</div>"
      ],
      "text/plain": [
       "                Count  Percent (%)\n",
       "sleep_category                    \n",
       "Normal Sleep     4626        77.27\n",
       "Long Sleep        854        14.26\n",
       "Short Sleep       507         8.47"
      ]
     },
     "metadata": {},
     "output_type": "display_data"
    },
    {
     "name": "stdout",
     "output_type": "stream",
     "text": [
      "\n",
      "=== Physical Activity Summary ===\n"
     ]
    },
    {
     "data": {
      "text/html": [
       "<div>\n",
       "<style scoped>\n",
       "    .dataframe tbody tr th:only-of-type {\n",
       "        vertical-align: middle;\n",
       "    }\n",
       "\n",
       "    .dataframe tbody tr th {\n",
       "        vertical-align: top;\n",
       "    }\n",
       "\n",
       "    .dataframe thead th {\n",
       "        text-align: right;\n",
       "    }\n",
       "</style>\n",
       "<table border=\"1\" class=\"dataframe\">\n",
       "  <thead>\n",
       "    <tr style=\"text-align: right;\">\n",
       "      <th></th>\n",
       "      <th>Activity Stats</th>\n",
       "    </tr>\n",
       "  </thead>\n",
       "  <tbody>\n",
       "    <tr>\n",
       "      <th>count</th>\n",
       "      <td>4,449.00</td>\n",
       "    </tr>\n",
       "    <tr>\n",
       "      <th>mean</th>\n",
       "      <td>212.40</td>\n",
       "    </tr>\n",
       "    <tr>\n",
       "      <th>std</th>\n",
       "      <td>239.20</td>\n",
       "    </tr>\n",
       "    <tr>\n",
       "      <th>min</th>\n",
       "      <td>0.19</td>\n",
       "    </tr>\n",
       "    <tr>\n",
       "      <th>25%</th>\n",
       "      <td>60.00</td>\n",
       "    </tr>\n",
       "    <tr>\n",
       "      <th>50%</th>\n",
       "      <td>140.00</td>\n",
       "    </tr>\n",
       "    <tr>\n",
       "      <th>75%</th>\n",
       "      <td>270.00</td>\n",
       "    </tr>\n",
       "    <tr>\n",
       "      <th>max</th>\n",
       "      <td>3,360.00</td>\n",
       "    </tr>\n",
       "  </tbody>\n",
       "</table>\n",
       "</div>"
      ],
      "text/plain": [
       "       Activity Stats\n",
       "count        4,449.00\n",
       "mean           212.40\n",
       "std            239.20\n",
       "min              0.19\n",
       "25%             60.00\n",
       "50%            140.00\n",
       "75%            270.00\n",
       "max          3,360.00"
      ]
     },
     "metadata": {},
     "output_type": "display_data"
    },
    {
     "name": "stdout",
     "output_type": "stream",
     "text": [
      "\n",
      "=== Activity Level ===\n"
     ]
    },
    {
     "data": {
      "text/html": [
       "<div>\n",
       "<style scoped>\n",
       "    .dataframe tbody tr th:only-of-type {\n",
       "        vertical-align: middle;\n",
       "    }\n",
       "\n",
       "    .dataframe tbody tr th {\n",
       "        vertical-align: top;\n",
       "    }\n",
       "\n",
       "    .dataframe thead th {\n",
       "        text-align: right;\n",
       "    }\n",
       "</style>\n",
       "<table border=\"1\" class=\"dataframe\">\n",
       "  <thead>\n",
       "    <tr style=\"text-align: right;\">\n",
       "      <th></th>\n",
       "      <th>Count</th>\n",
       "      <th>Percent (%)</th>\n",
       "    </tr>\n",
       "    <tr>\n",
       "      <th>activity_level</th>\n",
       "      <th></th>\n",
       "      <th></th>\n",
       "    </tr>\n",
       "  </thead>\n",
       "  <tbody>\n",
       "    <tr>\n",
       "      <th>Low active</th>\n",
       "      <td>2249</td>\n",
       "      <td>50.55</td>\n",
       "    </tr>\n",
       "    <tr>\n",
       "      <th>Moderately active</th>\n",
       "      <td>1135</td>\n",
       "      <td>25.51</td>\n",
       "    </tr>\n",
       "    <tr>\n",
       "      <th>Highly active</th>\n",
       "      <td>1065</td>\n",
       "      <td>23.94</td>\n",
       "    </tr>\n",
       "  </tbody>\n",
       "</table>\n",
       "</div>"
      ],
      "text/plain": [
       "                   Count  Percent (%)\n",
       "activity_level                       \n",
       "Low active          2249        50.55\n",
       "Moderately active   1135        25.51\n",
       "Highly active       1065        23.94"
      ]
     },
     "metadata": {},
     "output_type": "display_data"
    },
    {
     "name": "stdout",
     "output_type": "stream",
     "text": [
      "\n",
      "=== Diet Score Summary ===\n"
     ]
    },
    {
     "data": {
      "text/html": [
       "<div>\n",
       "<style scoped>\n",
       "    .dataframe tbody tr th:only-of-type {\n",
       "        vertical-align: middle;\n",
       "    }\n",
       "\n",
       "    .dataframe tbody tr th {\n",
       "        vertical-align: top;\n",
       "    }\n",
       "\n",
       "    .dataframe thead th {\n",
       "        text-align: right;\n",
       "    }\n",
       "</style>\n",
       "<table border=\"1\" class=\"dataframe\">\n",
       "  <thead>\n",
       "    <tr style=\"text-align: right;\">\n",
       "      <th></th>\n",
       "      <th>Diet Score Stats</th>\n",
       "    </tr>\n",
       "  </thead>\n",
       "  <tbody>\n",
       "    <tr>\n",
       "      <th>count</th>\n",
       "      <td>4,793.00</td>\n",
       "    </tr>\n",
       "    <tr>\n",
       "      <th>mean</th>\n",
       "      <td>48.50</td>\n",
       "    </tr>\n",
       "    <tr>\n",
       "      <th>std</th>\n",
       "      <td>13.36</td>\n",
       "    </tr>\n",
       "    <tr>\n",
       "      <th>min</th>\n",
       "      <td>13.28</td>\n",
       "    </tr>\n",
       "    <tr>\n",
       "      <th>25%</th>\n",
       "      <td>38.71</td>\n",
       "    </tr>\n",
       "    <tr>\n",
       "      <th>50%</th>\n",
       "      <td>47.21</td>\n",
       "    </tr>\n",
       "    <tr>\n",
       "      <th>75%</th>\n",
       "      <td>57.34</td>\n",
       "    </tr>\n",
       "    <tr>\n",
       "      <th>max</th>\n",
       "      <td>96.83</td>\n",
       "    </tr>\n",
       "  </tbody>\n",
       "</table>\n",
       "</div>"
      ],
      "text/plain": [
       "       Diet Score Stats\n",
       "count          4,793.00\n",
       "mean              48.50\n",
       "std               13.36\n",
       "min               13.28\n",
       "25%               38.71\n",
       "50%               47.21\n",
       "75%               57.34\n",
       "max               96.83"
      ]
     },
     "metadata": {},
     "output_type": "display_data"
    },
    {
     "name": "stdout",
     "output_type": "stream",
     "text": [
      "\n",
      "=== Diet Quality Category ===\n"
     ]
    },
    {
     "data": {
      "text/html": [
       "<div>\n",
       "<style scoped>\n",
       "    .dataframe tbody tr th:only-of-type {\n",
       "        vertical-align: middle;\n",
       "    }\n",
       "\n",
       "    .dataframe tbody tr th {\n",
       "        vertical-align: top;\n",
       "    }\n",
       "\n",
       "    .dataframe thead th {\n",
       "        text-align: right;\n",
       "    }\n",
       "</style>\n",
       "<table border=\"1\" class=\"dataframe\">\n",
       "  <thead>\n",
       "    <tr style=\"text-align: right;\">\n",
       "      <th></th>\n",
       "      <th>Count</th>\n",
       "      <th>Percent (%)</th>\n",
       "    </tr>\n",
       "    <tr>\n",
       "      <th>diet_score_category</th>\n",
       "      <th></th>\n",
       "      <th></th>\n",
       "    </tr>\n",
       "  </thead>\n",
       "  <tbody>\n",
       "    <tr>\n",
       "      <th>Poor</th>\n",
       "      <td>3846</td>\n",
       "      <td>80.24</td>\n",
       "    </tr>\n",
       "    <tr>\n",
       "      <th>Needs Improvement</th>\n",
       "      <td>879</td>\n",
       "      <td>18.34</td>\n",
       "    </tr>\n",
       "    <tr>\n",
       "      <th>Good</th>\n",
       "      <td>68</td>\n",
       "      <td>1.42</td>\n",
       "    </tr>\n",
       "  </tbody>\n",
       "</table>\n",
       "</div>"
      ],
      "text/plain": [
       "                     Count  Percent (%)\n",
       "diet_score_category                    \n",
       "Poor                  3846        80.24\n",
       "Needs Improvement      879        18.34\n",
       "Good                    68         1.42"
      ]
     },
     "metadata": {},
     "output_type": "display_data"
    },
    {
     "name": "stdout",
     "output_type": "stream",
     "text": [
      "Lifestyle and socio-economic statics report saved to 'outputs\\summary\\obj_1.1_lifestyle_and_socio_economic_unweighted_stats_report.xlsx'\n"
     ]
    }
   ],
   "source": [
    "# Create a copy of the DataFrame\n",
    "obj1_df = df.copy()\n",
    "\n",
    "# Create a dictionary to store all output DataFrames\n",
    "output_tables = {}\n",
    "\n",
    "# === DEMOGRAPHICS & SOCIOECONOMIC STATUS ===\n",
    "\n",
    "# Gender\n",
    "gender_counts = obj1_df[\"gender\"].value_counts()\n",
    "gender_percent = obj1_df[\"gender\"].value_counts(normalize=True) * 100\n",
    "gender_df = pd.concat([gender_counts, gender_percent.round(2)], axis=1, keys=[\"Count\", \"Percent (%)\"])\n",
    "output_tables[\"Gender Distribution\"] = gender_df\n",
    "\n",
    "# Race/Ethnicity\n",
    "race_counts = obj1_df[\"race_ethnicity\"].value_counts()\n",
    "race_percent = obj1_df[\"race_ethnicity\"].value_counts(normalize=True) * 100\n",
    "race_df = pd.concat([race_counts, race_percent.round(2)], axis=1, keys=[\"Count\", \"Percent (%)\"])\n",
    "output_tables[\"Race/Ethnicity Distribution\"] = race_df\n",
    "\n",
    "# Education Level\n",
    "edu_counts = obj1_df[\"education_level\"].value_counts()\n",
    "edu_percent = obj1_df[\"education_level\"].value_counts(normalize=True) * 100\n",
    "edu_df = pd.concat([edu_counts, edu_percent.round(2)], axis=1, keys=[\"Count\", \"Percent (%)\"])\n",
    "output_tables[\"Education Level\"] = edu_df\n",
    "\n",
    "# Poverty Income Ratio Summary\n",
    "pir_summary = obj1_df[\"poverty_income_ratio\"].describe().round(2).to_frame(name=\"PIR Stats\")\n",
    "output_tables[\"PIR Summary\"] = pir_summary\n",
    "\n",
    "# Health Insurance\n",
    "insurance_counts = obj1_df[\"has_health_insurance\"].value_counts()\n",
    "insurance_percent = obj1_df[\"has_health_insurance\"].value_counts(normalize=True) * 100\n",
    "insurance_df = pd.concat([insurance_counts, insurance_percent.round(2)], axis=1, keys=[\"Count\", \"Percent (%)\"])\n",
    "output_tables[\"Health Insurance Coverage\"] = insurance_df\n",
    "\n",
    "# === LIFESTYLE BEHAVIORS ===\n",
    "\n",
    "# Sleep Duration (continuous)\n",
    "sleep_summary = obj1_df[\"sleep_avg_hr\"].describe().round(2).to_frame(name=\"Sleep Stats\")\n",
    "output_tables[\"Sleep Summary\"] = sleep_summary\n",
    "\n",
    "# Sleep Category\n",
    "sleep_cat_counts = obj1_df[\"sleep_category\"].value_counts()\n",
    "sleep_cat_percent = obj1_df[\"sleep_category\"].value_counts(normalize=True) * 100\n",
    "sleep_cat_df = pd.concat([sleep_cat_counts, sleep_cat_percent.round(2)], axis=1, keys=[\"Count\", \"Percent (%)\"])\n",
    "output_tables[\"Sleep Category\"] = sleep_cat_df\n",
    "\n",
    "# Physical Activity (weekly minutes)\n",
    "activity_summary = obj1_df[\"total_weekly_min\"].describe().round(2).to_frame(name=\"Activity Stats\")\n",
    "output_tables[\"Physical Activity Summary\"] = activity_summary\n",
    "\n",
    "# Activity Level\n",
    "activity_counts = obj1_df[\"activity_level\"].value_counts()\n",
    "activity_percent = obj1_df[\"activity_level\"].value_counts(normalize=True) * 100\n",
    "activity_df = pd.concat([activity_counts, activity_percent.round(2)], axis=1, keys=[\"Count\", \"Percent (%)\"])\n",
    "output_tables[\"Activity Level\"] = activity_df\n",
    "\n",
    "# Diet Score\n",
    "diet_summary = obj1_df[\"hei_score\"].describe().round(2).to_frame(name=\"Diet Score Stats\")\n",
    "output_tables[\"Diet Score Summary\"] = diet_summary\n",
    "\n",
    "# Diet Category\n",
    "diet_cat_counts = obj1_df[\"diet_score_category\"].value_counts()\n",
    "diet_cat_percent = obj1_df[\"diet_score_category\"].value_counts(normalize=True) * 100\n",
    "diet_cat_df = pd.concat([diet_cat_counts, diet_cat_percent.round(2)], axis=1, keys=[\"Count\", \"Percent (%)\"])\n",
    "output_tables[\"Diet Quality Category\"] = diet_cat_df\n",
    "\n",
    "\n",
    "# Show all tables in notebook before saving to Excel\n",
    "for sheet_name, table in output_tables.items():\n",
    "    print(f\"\\n=== {sheet_name} ===\")\n",
    "    display(table) \n",
    "\n",
    "# === Save to Excel ===\n",
    "\n",
    "output_file = SUMMARY_DIR/\"obj_1.1_lifestyle_and_socio_economic_unweighted_stats_report.xlsx\"\n",
    "\n",
    "with pd.ExcelWriter(output_file, engine=\"xlsxwriter\") as writer:\n",
    "    for sheet_name, table in output_tables.items():\n",
    "        clean_name = clean_sheet_name(sheet_name)\n",
    "        table.to_excel(writer, sheet_name=clean_name)\n",
    "\n",
    "print(f\"Lifestyle and socio-economic statics report saved to '{pretty_path(output_file)}'\")\n"
   ]
  },
  {
   "cell_type": "markdown",
   "id": "b00a1708",
   "metadata": {},
   "source": [
    "###  1b. Distribution Visualization (Unweighted)"
   ]
  },
  {
   "cell_type": "markdown",
   "id": "f2247276",
   "metadata": {},
   "source": [
    "***Visualizing Lifestyle and Socio-Economic Factors in the Dataset***\n",
    "\n",
    "Now, I’m creating a set of six informative plots to explore key lifestyle and socio-economic variables among our participants. These include the distribution of average sleep hours, education levels, diet quality scores, diet score categories, health insurance coverage, and physical activity levels. This overview helps us understand the general characteristics and health behaviors in the population.\n",
    "\n",
    "Next, I use a treemap to visualize income categories based on the poverty income ratio, offering a clear snapshot of economic diversity. Finally, I generate a sunburst chart to examine health insurance coverage differences by gender, which reveals important demographic patterns.\n",
    "\n",
    "These visualizations provide valuable insights into the social and lifestyle context of our dataset, setting the stage for further in-depth analysis.\n",
    "\n"
   ]
  },
  {
   "cell_type": "code",
   "execution_count": 6,
   "id": "66508612",
   "metadata": {},
   "outputs": [
    {
     "data": {
      "image/png": "[encoded data removed]",
      "text/plain": [
       "<Figure size 2200x1400 with 6 Axes>"
      ]
     },
     "metadata": {},
     "output_type": "display_data"
    },
    {
     "name": "stdout",
     "output_type": "stream",
     "text": [
      "Plots saved to outputs\\plots\\obj_1.1_lifestyle_and_socio_economic_unweighted_stats_plots.png\n"
     ]
    },
    {
     "data": {
      "image/png": "[encoded data removed]",
      "text/plain": [
       "<Figure size 1000x300 with 1 Axes>"
      ]
     },
     "metadata": {},
     "output_type": "display_data"
    },
    {
     "name": "stdout",
     "output_type": "stream",
     "text": [
      "Plots saved to outputs\\plots\\obj_1.1_income_treemap_unweighted.png\n"
     ]
    },
    {
     "data": {
      "application/vnd.plotly.v1+json": {
       "config": {
        "plotlyServerURL": "https://plot.ly"
       },
       "data": [
        {
         "branchvalues": "total",
         "customdata": [
          [
           "(?)"
          ],
          [
           "(?)"
          ],
          [
           "No"
          ],
          [
           "No"
          ],
          [
           "Yes"
          ],
          [
           "Yes"
          ]
         ],
         "domain": {
          "x": [
           0,
           1
          ],
          "y": [
           0,
           1
          ]
         },
         "hovertemplate": "labels=%{label}<br>count=%{value}<br>parent=%{parent}<br>id=%{id}<br>has_health_insurance=%{customdata[0]}<extra></extra>",
         "ids": [
          "Male",
          "Female",
          "Female/No",
          "Male/No",
          "Male/Yes",
          "Female/Yes"
         ],
         "labels": [
          "Male",
          "Female",
          "No",
          "No",
          "Yes",
          "Yes"
         ],
         "marker": {
          "colors": [
           "#00cc96",
           "#00cc96",
           "#FF5722",
           "#FF5722",
           "#4CAF50",
           "#4CAF50"
          ]
         },
         "name": "",
         "parents": [
          "",
          "",
          "Female",
          "Male",
          "Male",
          "Female"
         ],
         "type": "sunburst",
         "values": {
          "bdata": "mwoMDfEAAQGaCRsM",
          "dtype": "i2"
         }
        }
       ],
       "layout": {
        "height": 288,
        "legend": {
         "tracegroupgap": 0
        },
        "margin": {
         "b": 10,
         "l": 10,
         "r": 10,
         "t": 50
        },
        "template": {
         "data": {
          "bar": [
           {
            "error_x": {
             "color": "#2a3f5f"
            },
            "error_y": {
             "color": "#2a3f5f"
            },
            "marker": {
             "line": {
              "color": "#E5ECF6",
              "width": 0.5
             },
             "pattern": {
              "fillmode": "overlay",
              "size": 10,
              "solidity": 0.2
             }
            },
            "type": "bar"
           }
          ],
          "barpolar": [
           {
            "marker": {
             "line": {
              "color": "#E5ECF6",
              "width": 0.5
             },
             "pattern": {
              "fillmode": "overlay",
              "size": 10,
              "solidity": 0.2
             }
            },
            "type": "barpolar"
           }
          ],
          "carpet": [
           {
            "aaxis": {
             "endlinecolor": "#2a3f5f",
             "gridcolor": "white",
             "linecolor": "white",
             "minorgridcolor": "white",
             "startlinecolor": "#2a3f5f"
            },
            "baxis": {
             "endlinecolor": "#2a3f5f",
             "gridcolor": "white",
             "linecolor": "white",
             "minorgridcolor": "white",
             "startlinecolor": "#2a3f5f"
            },
            "type": "carpet"
           }
          ],
          "choropleth": [
           {
            "colorbar": {
             "outlinewidth": 0,
             "ticks": ""
            },
            "type": "choropleth"
           }
          ],
          "contour": [
           {
            "colorbar": {
             "outlinewidth": 0,
             "ticks": ""
            },
            "colorscale": [
             [
              0,
              "#0d0887"
             ],
             [
              0.1111111111111111,
              "#46039f"
             ],
             [
              0.2222222222222222,
              "#7201a8"
             ],
             [
              0.3333333333333333,
              "#9c179e"
             ],
             [
              0.4444444444444444,
              "#bd3786"
             ],
             [
              0.5555555555555556,
              "#d8576b"
             ],
             [
              0.6666666666666666,
              "#ed7953"
             ],
             [
              0.7777777777777778,
              "#fb9f3a"
             ],
             [
              0.8888888888888888,
              "#fdca26"
             ],
             [
              1,
              "#f0f921"
             ]
            ],
            "type": "contour"
           }
          ],
          "contourcarpet": [
           {
            "colorbar": {
             "outlinewidth": 0,
             "ticks": ""
            },
            "type": "contourcarpet"
           }
          ],
          "heatmap": [
           {
            "colorbar": {
             "outlinewidth": 0,
             "ticks": ""
            },
            "colorscale": [
             [
              0,
              "#0d0887"
             ],
             [
              0.1111111111111111,
              "#46039f"
             ],
             [
              0.2222222222222222,
              "#7201a8"
             ],
             [
              0.3333333333333333,
              "#9c179e"
             ],
             [
              0.4444444444444444,
              "#bd3786"
             ],
             [
              0.5555555555555556,
              "#d8576b"
             ],
             [
              0.6666666666666666,
              "#ed7953"
             ],
             [
              0.7777777777777778,
              "#fb9f3a"
             ],
             [
              0.8888888888888888,
              "#fdca26"
             ],
             [
              1,
              "#f0f921"
             ]
            ],
            "type": "heatmap"
           }
          ],
          "histogram": [
           {
            "marker": {
             "pattern": {
              "fillmode": "overlay",
              "size": 10,
              "solidity": 0.2
             }
            },
            "type": "histogram"
           }
          ],
          "histogram2d": [
           {
            "colorbar": {
             "outlinewidth": 0,
             "ticks": ""
            },
            "colorscale": [
             [
              0,
              "#0d0887"
             ],
             [
              0.1111111111111111,
              "#46039f"
             ],
             [
              0.2222222222222222,
              "#7201a8"
             ],
             [
              0.3333333333333333,
              "#9c179e"
             ],
             [
              0.4444444444444444,
              "#bd3786"
             ],
             [
              0.5555555555555556,
              "#d8576b"
             ],
             [
              0.6666666666666666,
              "#ed7953"
             ],
             [
              0.7777777777777778,
              "#fb9f3a"
             ],
             [
              0.8888888888888888,
              "#fdca26"
             ],
             [
              1,
              "#f0f921"
             ]
            ],
            "type": "histogram2d"
           }
          ],
          "histogram2dcontour": [
           {
            "colorbar": {
             "outlinewidth": 0,
             "ticks": ""
            },
            "colorscale": [
             [
              0,
              "#0d0887"
             ],
             [
              0.1111111111111111,
              "#46039f"
             ],
             [
              0.2222222222222222,
              "#7201a8"
             ],
             [
              0.3333333333333333,
              "#9c179e"
             ],
             [
              0.4444444444444444,
              "#bd3786"
             ],
             [
              0.5555555555555556,
              "#d8576b"
             ],
             [
              0.6666666666666666,
              "#ed7953"
             ],
             [
              0.7777777777777778,
              "#fb9f3a"
             ],
             [
              0.8888888888888888,
              "#fdca26"
             ],
             [
              1,
              "#f0f921"
             ]
            ],
            "type": "histogram2dcontour"
           }
          ],
          "mesh3d": [
           {
            "colorbar": {
             "outlinewidth": 0,
             "ticks": ""
            },
            "type": "mesh3d"
           }
          ],
          "parcoords": [
           {
            "line": {
             "colorbar": {
              "outlinewidth": 0,
              "ticks": ""
             }
            },
            "type": "parcoords"
           }
          ],
          "pie": [
           {
            "automargin": true,
            "type": "pie"
           }
          ],
          "scatter": [
           {
            "fillpattern": {
             "fillmode": "overlay",
             "size": 10,
             "solidity": 0.2
            },
            "type": "scatter"
           }
          ],
          "scatter3d": [
           {
            "line": {
             "colorbar": {
              "outlinewidth": 0,
              "ticks": ""
             }
            },
            "marker": {
             "colorbar": {
              "outlinewidth": 0,
              "ticks": ""
             }
            },
            "type": "scatter3d"
           }
          ],
          "scattercarpet": [
           {
            "marker": {
             "colorbar": {
              "outlinewidth": 0,
              "ticks": ""
             }
            },
            "type": "scattercarpet"
           }
          ],
          "scattergeo": [
           {
            "marker": {
             "colorbar": {
              "outlinewidth": 0,
              "ticks": ""
             }
            },
            "type": "scattergeo"
           }
          ],
          "scattergl": [
           {
            "marker": {
             "colorbar": {
              "outlinewidth": 0,
              "ticks": ""
             }
            },
            "type": "scattergl"
           }
          ],
          "scattermap": [
           {
            "marker": {
             "colorbar": {
              "outlinewidth": 0,
              "ticks": ""
             }
            },
            "type": "scattermap"
           }
          ],
          "scattermapbox": [
           {
            "marker": {
             "colorbar": {
              "outlinewidth": 0,
              "ticks": ""
             }
            },
            "type": "scattermapbox"
           }
          ],
          "scatterpolar": [
           {
            "marker": {
             "colorbar": {
              "outlinewidth": 0,
              "ticks": ""
             }
            },
            "type": "scatterpolar"
           }
          ],
          "scatterpolargl": [
           {
            "marker": {
             "colorbar": {
              "outlinewidth": 0,
              "ticks": ""
             }
            },
            "type": "scatterpolargl"
           }
          ],
          "scatterternary": [
           {
            "marker": {
             "colorbar": {
              "outlinewidth": 0,
              "ticks": ""
             }
            },
            "type": "scatterternary"
           }
          ],
          "surface": [
           {
            "colorbar": {
             "outlinewidth": 0,
             "ticks": ""
            },
            "colorscale": [
             [
              0,
              "#0d0887"
             ],
             [
              0.1111111111111111,
              "#46039f"
             ],
             [
              0.2222222222222222,
              "#7201a8"
             ],
             [
              0.3333333333333333,
              "#9c179e"
             ],
             [
              0.4444444444444444,
              "#bd3786"
             ],
             [
              0.5555555555555556,
              "#d8576b"
             ],
             [
              0.6666666666666666,
              "#ed7953"
             ],
             [
              0.7777777777777778,
              "#fb9f3a"
             ],
             [
              0.8888888888888888,
              "#fdca26"
             ],
             [
              1,
              "#f0f921"
             ]
            ],
            "type": "surface"
           }
          ],
          "table": [
           {
            "cells": {
             "fill": {
              "color": "#EBF0F8"
             },
             "line": {
              "color": "white"
             }
            },
            "header": {
             "fill": {
              "color": "#C8D4E3"
             },
             "line": {
              "color": "white"
             }
            },
            "type": "table"
           }
          ]
         },
         "layout": {
          "annotationdefaults": {
           "arrowcolor": "#2a3f5f",
           "arrowhead": 0,
           "arrowwidth": 1
          },
          "autotypenumbers": "strict",
          "coloraxis": {
           "colorbar": {
            "outlinewidth": 0,
            "ticks": ""
           }
          },
          "colorscale": {
           "diverging": [
            [
             0,
             "#8e0152"
            ],
            [
             0.1,
             "#c51b7d"
            ],
            [
             0.2,
             "#de77ae"
            ],
            [
             0.3,
             "#f1b6da"
            ],
            [
             0.4,
             "#fde0ef"
            ],
            [
             0.5,
             "#f7f7f7"
            ],
            [
             0.6,
             "#e6f5d0"
            ],
            [
             0.7,
             "#b8e186"
            ],
            [
             0.8,
             "#7fbc41"
            ],
            [
             0.9,
             "#4d9221"
            ],
            [
             1,
             "#276419"
            ]
           ],
           "sequential": [
            [
             0,
             "#0d0887"
            ],
            [
             0.1111111111111111,
             "#46039f"
            ],
            [
             0.2222222222222222,
             "#7201a8"
            ],
            [
             0.3333333333333333,
             "#9c179e"
            ],
            [
             0.4444444444444444,
             "#bd3786"
            ],
            [
             0.5555555555555556,
             "#d8576b"
            ],
            [
             0.6666666666666666,
             "#ed7953"
            ],
            [
             0.7777777777777778,
             "#fb9f3a"
            ],
            [
             0.8888888888888888,
             "#fdca26"
            ],
            [
             1,
             "#f0f921"
            ]
           ],
           "sequentialminus": [
            [
             0,
             "#0d0887"
            ],
            [
             0.1111111111111111,
             "#46039f"
            ],
            [
             0.2222222222222222,
             "#7201a8"
            ],
            [
             0.3333333333333333,
             "#9c179e"
            ],
            [
             0.4444444444444444,
             "#bd3786"
            ],
            [
             0.5555555555555556,
             "#d8576b"
            ],
            [
             0.6666666666666666,
             "#ed7953"
            ],
            [
             0.7777777777777778,
             "#fb9f3a"
            ],
            [
             0.8888888888888888,
             "#fdca26"
            ],
            [
             1,
             "#f0f921"
            ]
           ]
          },
          "colorway": [
           "#636efa",
           "#EF553B",
           "#00cc96",
           "#ab63fa",
           "#FFA15A",
           "#19d3f3",
           "#FF6692",
           "#B6E880",
           "#FF97FF",
           "#FECB52"
          ],
          "font": {
           "color": "#2a3f5f"
          },
          "geo": {
           "bgcolor": "white",
           "lakecolor": "white",
           "landcolor": "#E5ECF6",
           "showlakes": true,
           "showland": true,
           "subunitcolor": "white"
          },
          "hoverlabel": {
           "align": "left"
          },
          "hovermode": "closest",
          "mapbox": {
           "style": "light"
          },
          "paper_bgcolor": "white",
          "plot_bgcolor": "#E5ECF6",
          "polar": {
           "angularaxis": {
            "gridcolor": "white",
            "linecolor": "white",
            "ticks": ""
           },
           "bgcolor": "#E5ECF6",
           "radialaxis": {
            "gridcolor": "white",
            "linecolor": "white",
            "ticks": ""
           }
          },
          "scene": {
           "xaxis": {
            "backgroundcolor": "#E5ECF6",
            "gridcolor": "white",
            "gridwidth": 2,
            "linecolor": "white",
            "showbackground": true,
            "ticks": "",
            "zerolinecolor": "white"
           },
           "yaxis": {
            "backgroundcolor": "#E5ECF6",
            "gridcolor": "white",
            "gridwidth": 2,
            "linecolor": "white",
            "showbackground": true,
            "ticks": "",
            "zerolinecolor": "white"
           },
           "zaxis": {
            "backgroundcolor": "#E5ECF6",
            "gridcolor": "white",
            "gridwidth": 2,
            "linecolor": "white",
            "showbackground": true,
            "ticks": "",
            "zerolinecolor": "white"
           }
          },
          "shapedefaults": {
           "line": {
            "color": "#2a3f5f"
           }
          },
          "ternary": {
           "aaxis": {
            "gridcolor": "white",
            "linecolor": "white",
            "ticks": ""
           },
           "baxis": {
            "gridcolor": "white",
            "linecolor": "white",
            "ticks": ""
           },
           "bgcolor": "#E5ECF6",
           "caxis": {
            "gridcolor": "white",
            "linecolor": "white",
            "ticks": ""
           }
          },
          "title": {
           "x": 0.05
          },
          "xaxis": {
           "automargin": true,
           "gridcolor": "white",
           "linecolor": "white",
           "ticks": "",
           "title": {
            "standoff": 15
           },
           "zerolinecolor": "white",
           "zerolinewidth": 2
          },
          "yaxis": {
           "automargin": true,
           "gridcolor": "white",
           "linecolor": "white",
           "ticks": "",
           "title": {
            "standoff": 15
           },
           "zerolinecolor": "white",
           "zerolinewidth": 2
          }
         }
        },
        "title": {
         "font": {
          "size": 18
         },
         "text": "Health Insurance Coverage by Gender"
        },
        "uniformtext": {
         "minsize": 12,
         "mode": "hide"
        },
        "width": 960
       }
      }
     },
     "metadata": {},
     "output_type": "display_data"
    },
    {
     "name": "stdout",
     "output_type": "stream",
     "text": [
      "Plots saved to outputs\\plots\\obj_1.1_sunburst_insurance_by_gender_unweighted.html\n"
     ]
    }
   ],
   "source": [
    "import matplotlib.pyplot as plt\n",
    "import seaborn as sns\n",
    "\n",
    "# ========== Grid of 6 Lifestyle/Socio-Economic Plots ==========\n",
    "\n",
    "fig, axs = plt.subplots(2, 3, figsize=(22, 14), constrained_layout=True)\n",
    "\n",
    "# 1. Sleep Duration Histogram\n",
    "sns.histplot(obj1_df[\"sleep_avg_hr\"], kde=True, bins=20, color='skyblue', ax=axs[0, 0])\n",
    "axs[0, 0].set_title(\"Distribution of Average Sleep Hours\")\n",
    "axs[0, 0].set_xlabel(\"Sleep Hours\")\n",
    "axs[0, 0].set_ylabel(\"Participants\")\n",
    "axs[0, 0].grid(True)\n",
    "\n",
    "# 2. Education Level (Horizontal Bar with fixed FutureWarning)\n",
    "sns.countplot(data=obj1_df, y=\"education_level\", hue=\"education_level\",  # <== fix here\n",
    "              order=obj1_df[\"education_level\"].value_counts().index,\n",
    "              palette='viridis', legend=False, ax=axs[0, 1])\n",
    "axs[0, 1].set_title(\"Education Level Distribution\")\n",
    "axs[0, 1].set_xlabel(\"Count\")\n",
    "axs[0, 1].set_ylabel(\"Education Level\")\n",
    "axs[0, 1].grid(True, axis='x')\n",
    "for p in axs[0, 1].patches:\n",
    "    width = p.get_width()\n",
    "    axs[0, 1].text(width + 5, p.get_y() + p.get_height()/2, int(width), va='center')\n",
    "\n",
    "# 3. Diet Score Histogram (Replacing countplot)\n",
    "sns.histplot(obj1_df[\"hei_score\"], kde=True, bins=20, color='mediumseagreen', ax=axs[0, 2])\n",
    "axs[0, 2].set_title('Distribution of Diet Quality Score (HEI)')\n",
    "axs[0, 2].set_xlabel('HEI Score')\n",
    "axs[0, 2].set_ylabel('Participants')\n",
    "axs[0, 2].grid(True)\n",
    "\n",
    "# 4. Diet Score Category\n",
    "sns.countplot(data=obj1_df, x='diet_score_category', hue='diet_score_category',  # <== fix\n",
    "              order=['Poor', 'Needs Improvement', 'Good'],\n",
    "              palette='Set2', legend=False, ax=axs[1, 0])\n",
    "axs[1, 0].set_title('Diet Quality Categories')\n",
    "axs[1, 0].set_xlabel('Diet Category')\n",
    "axs[1, 0].set_ylabel('Participants')\n",
    "for p in axs[1, 0].patches:\n",
    "    height = p.get_height()\n",
    "    axs[1, 0].text(p.get_x() + p.get_width()/2, height + 2, int(height), ha='center')\n",
    "\n",
    "# 5. Health Insurance Donut\n",
    "insurance_counts = obj1_df['has_health_insurance'].value_counts()\n",
    "colors = ['#4CAF50', '#FF5722']\n",
    "wedges, texts, autotexts = axs[1, 1].pie(insurance_counts,\n",
    "                                        labels=insurance_counts.index.map({True: 'Has Insurance', False: 'No Insurance'}),\n",
    "                                        autopct='%1.1f%%',\n",
    "                                        startangle=90,\n",
    "                                        colors=colors,\n",
    "                                        wedgeprops={'width': 0.4})\n",
    "axs[1, 1].set_title('Health Insurance Coverage (Donut)')\n",
    "total = insurance_counts.sum()\n",
    "axs[1, 1].text(0, 0, f\"{total} total\", ha='center', va='center', fontsize=12)\n",
    "\n",
    "# 6. Physical Activity Level\n",
    "sns.countplot(data=obj1_df, y='activity_level', hue='activity_level',  # <== fix\n",
    "              order=obj1_df['activity_level'].value_counts().index,\n",
    "              palette='coolwarm', legend=False, ax=axs[1, 2])\n",
    "axs[1, 2].set_title('Physical Activity Levels')\n",
    "axs[1, 2].set_xlabel('Participants')\n",
    "axs[1, 2].set_ylabel('Activity Level')\n",
    "for p in axs[1, 2].patches:\n",
    "    width = p.get_width()\n",
    "    axs[1, 2].text(width + 2, p.get_y() + p.get_height()/2, int(width), va='center')\n",
    "\n",
    "# Save the figure\n",
    "six_plot_path = PLOTS_DIR / \"obj_1.1_lifestyle_and_socio_economic_unweighted_stats_plots.png\"\n",
    "plt.savefig(six_plot_path, dpi=300)\n",
    "plt.show()\n",
    "plt.close()\n",
    "\n",
    "print(f\"Plots saved to {pretty_path(six_plot_path)}\")\n",
    "\n",
    "# ========== Treemap: Income Level ==========\n",
    "income_counts = obj1_df['pir_category'].value_counts()\n",
    "labels = [f'{cat}\\n{count}' for cat, count in zip(income_counts.index, income_counts.values)]\n",
    "\n",
    "plt.figure(figsize=(10, 3))\n",
    "squarify.plot(\n",
    "    sizes=income_counts.values,\n",
    "    label=labels,\n",
    "    alpha=0.8,\n",
    "    color=sns.color_palette('Set2'),\n",
    "    text_kwargs={'fontsize': 10, 'weight': 'bold', 'color': 'black'}\n",
    ")\n",
    "plt.axis('off')\n",
    "plt.title('Income Levels (PIR) - Treemap', fontsize=14, pad=12)\n",
    "plt.tight_layout(pad=1)\n",
    "\n",
    "treemap_path = PLOTS_DIR / \"obj_1.1_income_treemap_unweighted.png\"\n",
    "plt.savefig(treemap_path, dpi=300)\n",
    "plt.show()\n",
    "plt.close()\n",
    "print(f\"Plots saved to {pretty_path(treemap_path)}\")\n",
    "\n",
    "# ========== Sunburst: Gender vs Health Insurance ==========\n",
    "sunburst_df = obj1_df.dropna(subset=['gender', 'has_health_insurance'])\n",
    "fig = px.sunburst(\n",
    "    sunburst_df,\n",
    "    path=['gender', 'has_health_insurance'],\n",
    "    color='has_health_insurance',\n",
    "    color_discrete_map={'Yes': '#4CAF50', 'No': '#FF5722'},\n",
    "    title='Health Insurance Coverage by Gender'\n",
    ")\n",
    "\n",
    "fig.update_layout(\n",
    "    margin=dict(t=50, l=10, r=10, b=10),\n",
    "    title_font_size=18,\n",
    "    uniformtext=dict(minsize=12, mode='hide'),\n",
    "    width=960,\n",
    "    height=288\n",
    ")\n",
    "\n",
    "sunburst_path = PLOTS_DIR / \"obj_1.1_sunburst_insurance_by_gender_unweighted.html\"\n",
    "fig.write_html(sunburst_path)\n",
    "fig.show()\n",
    "\n",
    "print(f\"Plots saved to {pretty_path(sunburst_path)}\")\n"
   ]
  },
  {
   "cell_type": "markdown",
   "id": "836fe734",
   "metadata": {},
   "source": [
    "- View the obj_1.1_sunburst_insurance_by_gender_unweighted.html interactive plot:  [here](https://sahiladevi.github.io/health_track//outputs/plots/obj_1.1_sunburst_insurance_by_gender_unweighted.html)\n"
   ]
  },
  {
   "cell_type": "markdown",
   "id": "75b47e2e",
   "metadata": {},
   "source": [
    "### 2a. Weighted Descriptive Analysis without a Complex design"
   ]
  },
  {
   "cell_type": "markdown",
   "id": "7ee4ed2c",
   "metadata": {},
   "source": [
    "***Lifestyle and Socioeconomic Characteristics: Weighted Summary Report***\n",
    "This report presents a weighted overview of key lifestyle behaviors and socioeconomic indicators, including gender, race/ethnicity, education, income, health insurance coverage, sleep patterns, physical activity, and diet quality. All statistics reflect population-level estimates based on sampling weights to ensure representativeness.\n",
    "\n",
    "- (i.e.) Used a special method called “weighted statistics” to make sure everyone's answers are fairly represented—especially when some groups are over- or under-represented in the data"
   ]
  },
  {
   "cell_type": "code",
   "execution_count": 7,
   "id": "fae3ce6e",
   "metadata": {},
   "outputs": [
    {
     "name": "stdout",
     "output_type": "stream",
     "text": [
      "\n",
      "=== Gender Distribution ===\n"
     ]
    },
    {
     "data": {
      "text/html": [
       "<div>\n",
       "<style scoped>\n",
       "    .dataframe tbody tr th:only-of-type {\n",
       "        vertical-align: middle;\n",
       "    }\n",
       "\n",
       "    .dataframe tbody tr th {\n",
       "        vertical-align: top;\n",
       "    }\n",
       "\n",
       "    .dataframe thead th {\n",
       "        text-align: right;\n",
       "    }\n",
       "</style>\n",
       "<table border=\"1\" class=\"dataframe\">\n",
       "  <thead>\n",
       "    <tr style=\"text-align: right;\">\n",
       "      <th></th>\n",
       "      <th>gender</th>\n",
       "      <th>Weighted Count</th>\n",
       "      <th>Weighted Percent (%)</th>\n",
       "    </tr>\n",
       "  </thead>\n",
       "  <tbody>\n",
       "    <tr>\n",
       "      <th>0</th>\n",
       "      <td>Male</td>\n",
       "      <td>91,695,703.58</td>\n",
       "      <td>48.56</td>\n",
       "    </tr>\n",
       "    <tr>\n",
       "      <th>1</th>\n",
       "      <td>Female</td>\n",
       "      <td>97,143,692.86</td>\n",
       "      <td>51.44</td>\n",
       "    </tr>\n",
       "  </tbody>\n",
       "</table>\n",
       "</div>"
      ],
      "text/plain": [
       "   gender  Weighted Count  Weighted Percent (%)\n",
       "0    Male   91,695,703.58                 48.56\n",
       "1  Female   97,143,692.86                 51.44"
      ]
     },
     "metadata": {},
     "output_type": "display_data"
    },
    {
     "name": "stdout",
     "output_type": "stream",
     "text": [
      "\n",
      "=== Race/Ethnicity Distribution ===\n"
     ]
    },
    {
     "data": {
      "text/html": [
       "<div>\n",
       "<style scoped>\n",
       "    .dataframe tbody tr th:only-of-type {\n",
       "        vertical-align: middle;\n",
       "    }\n",
       "\n",
       "    .dataframe tbody tr th {\n",
       "        vertical-align: top;\n",
       "    }\n",
       "\n",
       "    .dataframe thead th {\n",
       "        text-align: right;\n",
       "    }\n",
       "</style>\n",
       "<table border=\"1\" class=\"dataframe\">\n",
       "  <thead>\n",
       "    <tr style=\"text-align: right;\">\n",
       "      <th></th>\n",
       "      <th>race_ethnicity</th>\n",
       "      <th>Weighted Count</th>\n",
       "      <th>Weighted Percent (%)</th>\n",
       "    </tr>\n",
       "  </thead>\n",
       "  <tbody>\n",
       "    <tr>\n",
       "      <th>0</th>\n",
       "      <td>Non-Hispanic Asian</td>\n",
       "      <td>11,738,908.33</td>\n",
       "      <td>6.22</td>\n",
       "    </tr>\n",
       "    <tr>\n",
       "      <th>1</th>\n",
       "      <td>Non-Hispanic White</td>\n",
       "      <td>114,563,697.54</td>\n",
       "      <td>60.67</td>\n",
       "    </tr>\n",
       "    <tr>\n",
       "      <th>2</th>\n",
       "      <td>Other Hispanic</td>\n",
       "      <td>17,995,522.59</td>\n",
       "      <td>9.53</td>\n",
       "    </tr>\n",
       "    <tr>\n",
       "      <th>3</th>\n",
       "      <td>Mexican American</td>\n",
       "      <td>13,313,140.37</td>\n",
       "      <td>7.05</td>\n",
       "    </tr>\n",
       "    <tr>\n",
       "      <th>4</th>\n",
       "      <td>Non-Hispanic Black</td>\n",
       "      <td>19,912,135.01</td>\n",
       "      <td>10.54</td>\n",
       "    </tr>\n",
       "    <tr>\n",
       "      <th>5</th>\n",
       "      <td>Other/Multi-Racial</td>\n",
       "      <td>11,315,992.60</td>\n",
       "      <td>5.99</td>\n",
       "    </tr>\n",
       "  </tbody>\n",
       "</table>\n",
       "</div>"
      ],
      "text/plain": [
       "       race_ethnicity  Weighted Count  Weighted Percent (%)\n",
       "0  Non-Hispanic Asian   11,738,908.33                  6.22\n",
       "1  Non-Hispanic White  114,563,697.54                 60.67\n",
       "2      Other Hispanic   17,995,522.59                  9.53\n",
       "3    Mexican American   13,313,140.37                  7.05\n",
       "4  Non-Hispanic Black   19,912,135.01                 10.54\n",
       "5  Other/Multi-Racial   11,315,992.60                  5.99"
      ]
     },
     "metadata": {},
     "output_type": "display_data"
    },
    {
     "name": "stdout",
     "output_type": "stream",
     "text": [
      "\n",
      "=== Education Level Distribution ===\n"
     ]
    },
    {
     "data": {
      "text/html": [
       "<div>\n",
       "<style scoped>\n",
       "    .dataframe tbody tr th:only-of-type {\n",
       "        vertical-align: middle;\n",
       "    }\n",
       "\n",
       "    .dataframe tbody tr th {\n",
       "        vertical-align: top;\n",
       "    }\n",
       "\n",
       "    .dataframe thead th {\n",
       "        text-align: right;\n",
       "    }\n",
       "</style>\n",
       "<table border=\"1\" class=\"dataframe\">\n",
       "  <thead>\n",
       "    <tr style=\"text-align: right;\">\n",
       "      <th></th>\n",
       "      <th>education_level</th>\n",
       "      <th>Weighted Count</th>\n",
       "      <th>Weighted Percent (%)</th>\n",
       "    </tr>\n",
       "  </thead>\n",
       "  <tbody>\n",
       "    <tr>\n",
       "      <th>0</th>\n",
       "      <td>College graduate or above</td>\n",
       "      <td>67,663,329.29</td>\n",
       "      <td>35.83</td>\n",
       "    </tr>\n",
       "    <tr>\n",
       "      <th>1</th>\n",
       "      <td>High school/GED</td>\n",
       "      <td>47,080,639.30</td>\n",
       "      <td>24.93</td>\n",
       "    </tr>\n",
       "    <tr>\n",
       "      <th>2</th>\n",
       "      <td>Some college/AA degree</td>\n",
       "      <td>56,144,844.75</td>\n",
       "      <td>29.73</td>\n",
       "    </tr>\n",
       "    <tr>\n",
       "      <th>3</th>\n",
       "      <td>9-11th grade</td>\n",
       "      <td>11,208,236.52</td>\n",
       "      <td>5.94</td>\n",
       "    </tr>\n",
       "    <tr>\n",
       "      <th>4</th>\n",
       "      <td>&lt;9th grade</td>\n",
       "      <td>6,668,494.53</td>\n",
       "      <td>3.53</td>\n",
       "    </tr>\n",
       "    <tr>\n",
       "      <th>5</th>\n",
       "      <td>Missing</td>\n",
       "      <td>73,852.05</td>\n",
       "      <td>0.04</td>\n",
       "    </tr>\n",
       "  </tbody>\n",
       "</table>\n",
       "</div>"
      ],
      "text/plain": [
       "             education_level  Weighted Count  Weighted Percent (%)\n",
       "0  College graduate or above   67,663,329.29                 35.83\n",
       "1            High school/GED   47,080,639.30                 24.93\n",
       "2     Some college/AA degree   56,144,844.75                 29.73\n",
       "3               9-11th grade   11,208,236.52                  5.94\n",
       "4                 <9th grade    6,668,494.53                  3.53\n",
       "5                    Missing       73,852.05                  0.04"
      ]
     },
     "metadata": {},
     "output_type": "display_data"
    },
    {
     "name": "stdout",
     "output_type": "stream",
     "text": [
      "\n",
      "=== PIR Summary ===\n"
     ]
    },
    {
     "data": {
      "text/html": [
       "<div>\n",
       "<style scoped>\n",
       "    .dataframe tbody tr th:only-of-type {\n",
       "        vertical-align: middle;\n",
       "    }\n",
       "\n",
       "    .dataframe tbody tr th {\n",
       "        vertical-align: top;\n",
       "    }\n",
       "\n",
       "    .dataframe thead th {\n",
       "        text-align: right;\n",
       "    }\n",
       "</style>\n",
       "<table border=\"1\" class=\"dataframe\">\n",
       "  <thead>\n",
       "    <tr style=\"text-align: right;\">\n",
       "      <th></th>\n",
       "      <th>Metric</th>\n",
       "      <th>Poverty Income Ratio (PIR)</th>\n",
       "    </tr>\n",
       "  </thead>\n",
       "  <tbody>\n",
       "    <tr>\n",
       "      <th>0</th>\n",
       "      <td>Weighted Mean</td>\n",
       "      <td>3.06</td>\n",
       "    </tr>\n",
       "    <tr>\n",
       "      <th>1</th>\n",
       "      <td>Weighted Std Dev</td>\n",
       "      <td>1.58</td>\n",
       "    </tr>\n",
       "  </tbody>\n",
       "</table>\n",
       "</div>"
      ],
      "text/plain": [
       "             Metric  Poverty Income Ratio (PIR)\n",
       "0     Weighted Mean                        3.06\n",
       "1  Weighted Std Dev                        1.58"
      ]
     },
     "metadata": {},
     "output_type": "display_data"
    },
    {
     "name": "stdout",
     "output_type": "stream",
     "text": [
      "\n",
      "=== Health Insurance Coverage ===\n"
     ]
    },
    {
     "data": {
      "text/html": [
       "<div>\n",
       "<style scoped>\n",
       "    .dataframe tbody tr th:only-of-type {\n",
       "        vertical-align: middle;\n",
       "    }\n",
       "\n",
       "    .dataframe tbody tr th {\n",
       "        vertical-align: top;\n",
       "    }\n",
       "\n",
       "    .dataframe thead th {\n",
       "        text-align: right;\n",
       "    }\n",
       "</style>\n",
       "<table border=\"1\" class=\"dataframe\">\n",
       "  <thead>\n",
       "    <tr style=\"text-align: right;\">\n",
       "      <th></th>\n",
       "      <th>has_health_insurance</th>\n",
       "      <th>Weighted Count</th>\n",
       "      <th>Weighted Percent (%)</th>\n",
       "    </tr>\n",
       "  </thead>\n",
       "  <tbody>\n",
       "    <tr>\n",
       "      <th>0</th>\n",
       "      <td>Yes</td>\n",
       "      <td>171,828,475.46</td>\n",
       "      <td>91.15</td>\n",
       "    </tr>\n",
       "    <tr>\n",
       "      <th>1</th>\n",
       "      <td>No</td>\n",
       "      <td>16,687,173.70</td>\n",
       "      <td>8.85</td>\n",
       "    </tr>\n",
       "  </tbody>\n",
       "</table>\n",
       "</div>"
      ],
      "text/plain": [
       "  has_health_insurance  Weighted Count  Weighted Percent (%)\n",
       "0                  Yes  171,828,475.46                 91.15\n",
       "1                   No   16,687,173.70                  8.85"
      ]
     },
     "metadata": {},
     "output_type": "display_data"
    },
    {
     "name": "stdout",
     "output_type": "stream",
     "text": [
      "\n",
      "=== Sleep Duration Summary ===\n"
     ]
    },
    {
     "data": {
      "text/html": [
       "<div>\n",
       "<style scoped>\n",
       "    .dataframe tbody tr th:only-of-type {\n",
       "        vertical-align: middle;\n",
       "    }\n",
       "\n",
       "    .dataframe tbody tr th {\n",
       "        vertical-align: top;\n",
       "    }\n",
       "\n",
       "    .dataframe thead th {\n",
       "        text-align: right;\n",
       "    }\n",
       "</style>\n",
       "<table border=\"1\" class=\"dataframe\">\n",
       "  <thead>\n",
       "    <tr style=\"text-align: right;\">\n",
       "      <th></th>\n",
       "      <th>Metric</th>\n",
       "      <th>Sleep (Avg Hrs/Day)</th>\n",
       "    </tr>\n",
       "  </thead>\n",
       "  <tbody>\n",
       "    <tr>\n",
       "      <th>0</th>\n",
       "      <td>Weighted Mean</td>\n",
       "      <td>7.82</td>\n",
       "    </tr>\n",
       "    <tr>\n",
       "      <th>1</th>\n",
       "      <td>Weighted Std Dev</td>\n",
       "      <td>1.38</td>\n",
       "    </tr>\n",
       "  </tbody>\n",
       "</table>\n",
       "</div>"
      ],
      "text/plain": [
       "             Metric  Sleep (Avg Hrs/Day)\n",
       "0     Weighted Mean                 7.82\n",
       "1  Weighted Std Dev                 1.38"
      ]
     },
     "metadata": {},
     "output_type": "display_data"
    },
    {
     "name": "stdout",
     "output_type": "stream",
     "text": [
      "\n",
      "=== Sleep Duration Category ===\n"
     ]
    },
    {
     "data": {
      "text/html": [
       "<div>\n",
       "<style scoped>\n",
       "    .dataframe tbody tr th:only-of-type {\n",
       "        vertical-align: middle;\n",
       "    }\n",
       "\n",
       "    .dataframe tbody tr th {\n",
       "        vertical-align: top;\n",
       "    }\n",
       "\n",
       "    .dataframe thead th {\n",
       "        text-align: right;\n",
       "    }\n",
       "</style>\n",
       "<table border=\"1\" class=\"dataframe\">\n",
       "  <thead>\n",
       "    <tr style=\"text-align: right;\">\n",
       "      <th></th>\n",
       "      <th>sleep_category</th>\n",
       "      <th>Weighted Count</th>\n",
       "      <th>Weighted Percent (%)</th>\n",
       "    </tr>\n",
       "  </thead>\n",
       "  <tbody>\n",
       "    <tr>\n",
       "      <th>0</th>\n",
       "      <td>Long Sleep</td>\n",
       "      <td>24,623,661.01</td>\n",
       "      <td>13.18</td>\n",
       "    </tr>\n",
       "    <tr>\n",
       "      <th>1</th>\n",
       "      <td>Normal Sleep</td>\n",
       "      <td>147,848,282.92</td>\n",
       "      <td>79.13</td>\n",
       "    </tr>\n",
       "    <tr>\n",
       "      <th>2</th>\n",
       "      <td>Short Sleep</td>\n",
       "      <td>14,359,826.51</td>\n",
       "      <td>7.69</td>\n",
       "    </tr>\n",
       "  </tbody>\n",
       "</table>\n",
       "</div>"
      ],
      "text/plain": [
       "  sleep_category  Weighted Count  Weighted Percent (%)\n",
       "0     Long Sleep   24,623,661.01                 13.18\n",
       "1   Normal Sleep  147,848,282.92                 79.13\n",
       "2    Short Sleep   14,359,826.51                  7.69"
      ]
     },
     "metadata": {},
     "output_type": "display_data"
    },
    {
     "name": "stdout",
     "output_type": "stream",
     "text": [
      "\n",
      "=== Physical Activity Summary ===\n"
     ]
    },
    {
     "data": {
      "text/html": [
       "<div>\n",
       "<style scoped>\n",
       "    .dataframe tbody tr th:only-of-type {\n",
       "        vertical-align: middle;\n",
       "    }\n",
       "\n",
       "    .dataframe tbody tr th {\n",
       "        vertical-align: top;\n",
       "    }\n",
       "\n",
       "    .dataframe thead th {\n",
       "        text-align: right;\n",
       "    }\n",
       "</style>\n",
       "<table border=\"1\" class=\"dataframe\">\n",
       "  <thead>\n",
       "    <tr style=\"text-align: right;\">\n",
       "      <th></th>\n",
       "      <th>Metric</th>\n",
       "      <th>Weekly Activity (min)</th>\n",
       "    </tr>\n",
       "  </thead>\n",
       "  <tbody>\n",
       "    <tr>\n",
       "      <th>0</th>\n",
       "      <td>Weighted Mean</td>\n",
       "      <td>205.40</td>\n",
       "    </tr>\n",
       "    <tr>\n",
       "      <th>1</th>\n",
       "      <td>Weighted Std Dev</td>\n",
       "      <td>228.97</td>\n",
       "    </tr>\n",
       "  </tbody>\n",
       "</table>\n",
       "</div>"
      ],
      "text/plain": [
       "             Metric  Weekly Activity (min)\n",
       "0     Weighted Mean                 205.40\n",
       "1  Weighted Std Dev                 228.97"
      ]
     },
     "metadata": {},
     "output_type": "display_data"
    },
    {
     "name": "stdout",
     "output_type": "stream",
     "text": [
      "\n",
      "=== Physical Activity Level ===\n"
     ]
    },
    {
     "data": {
      "text/html": [
       "<div>\n",
       "<style scoped>\n",
       "    .dataframe tbody tr th:only-of-type {\n",
       "        vertical-align: middle;\n",
       "    }\n",
       "\n",
       "    .dataframe tbody tr th {\n",
       "        vertical-align: top;\n",
       "    }\n",
       "\n",
       "    .dataframe thead th {\n",
       "        text-align: right;\n",
       "    }\n",
       "</style>\n",
       "<table border=\"1\" class=\"dataframe\">\n",
       "  <thead>\n",
       "    <tr style=\"text-align: right;\">\n",
       "      <th></th>\n",
       "      <th>activity_level</th>\n",
       "      <th>Weighted Count</th>\n",
       "      <th>Weighted Percent (%)</th>\n",
       "    </tr>\n",
       "  </thead>\n",
       "  <tbody>\n",
       "    <tr>\n",
       "      <th>0</th>\n",
       "      <td>Low active</td>\n",
       "      <td>74,431,905.43</td>\n",
       "      <td>52.10</td>\n",
       "    </tr>\n",
       "    <tr>\n",
       "      <th>1</th>\n",
       "      <td>Moderately active</td>\n",
       "      <td>35,348,370.16</td>\n",
       "      <td>24.74</td>\n",
       "    </tr>\n",
       "    <tr>\n",
       "      <th>2</th>\n",
       "      <td>Highly active</td>\n",
       "      <td>33,086,985.83</td>\n",
       "      <td>23.16</td>\n",
       "    </tr>\n",
       "  </tbody>\n",
       "</table>\n",
       "</div>"
      ],
      "text/plain": [
       "      activity_level  Weighted Count  Weighted Percent (%)\n",
       "0         Low active   74,431,905.43                 52.10\n",
       "1  Moderately active   35,348,370.16                 24.74\n",
       "2      Highly active   33,086,985.83                 23.16"
      ]
     },
     "metadata": {},
     "output_type": "display_data"
    },
    {
     "name": "stdout",
     "output_type": "stream",
     "text": [
      "\n",
      "=== Diet Score Summary ===\n"
     ]
    },
    {
     "data": {
      "text/html": [
       "<div>\n",
       "<style scoped>\n",
       "    .dataframe tbody tr th:only-of-type {\n",
       "        vertical-align: middle;\n",
       "    }\n",
       "\n",
       "    .dataframe tbody tr th {\n",
       "        vertical-align: top;\n",
       "    }\n",
       "\n",
       "    .dataframe thead th {\n",
       "        text-align: right;\n",
       "    }\n",
       "</style>\n",
       "<table border=\"1\" class=\"dataframe\">\n",
       "  <thead>\n",
       "    <tr style=\"text-align: right;\">\n",
       "      <th></th>\n",
       "      <th>Metric</th>\n",
       "      <th>Diet Score</th>\n",
       "    </tr>\n",
       "  </thead>\n",
       "  <tbody>\n",
       "    <tr>\n",
       "      <th>0</th>\n",
       "      <td>Weighted Mean</td>\n",
       "      <td>47.52</td>\n",
       "    </tr>\n",
       "    <tr>\n",
       "      <th>1</th>\n",
       "      <td>Weighted Std Dev</td>\n",
       "      <td>13.13</td>\n",
       "    </tr>\n",
       "  </tbody>\n",
       "</table>\n",
       "</div>"
      ],
      "text/plain": [
       "             Metric  Diet Score\n",
       "0     Weighted Mean       47.52\n",
       "1  Weighted Std Dev       13.13"
      ]
     },
     "metadata": {},
     "output_type": "display_data"
    },
    {
     "name": "stdout",
     "output_type": "stream",
     "text": [
      "\n",
      "=== Diet Quality Category ===\n"
     ]
    },
    {
     "data": {
      "text/html": [
       "<div>\n",
       "<style scoped>\n",
       "    .dataframe tbody tr th:only-of-type {\n",
       "        vertical-align: middle;\n",
       "    }\n",
       "\n",
       "    .dataframe tbody tr th {\n",
       "        vertical-align: top;\n",
       "    }\n",
       "\n",
       "    .dataframe thead th {\n",
       "        text-align: right;\n",
       "    }\n",
       "</style>\n",
       "<table border=\"1\" class=\"dataframe\">\n",
       "  <thead>\n",
       "    <tr style=\"text-align: right;\">\n",
       "      <th></th>\n",
       "      <th>diet_score_category</th>\n",
       "      <th>Weighted Count</th>\n",
       "      <th>Weighted Percent (%)</th>\n",
       "    </tr>\n",
       "  </thead>\n",
       "  <tbody>\n",
       "    <tr>\n",
       "      <th>0</th>\n",
       "      <td>Poor</td>\n",
       "      <td>201,569,110.01</td>\n",
       "      <td>82.40</td>\n",
       "    </tr>\n",
       "    <tr>\n",
       "      <th>1</th>\n",
       "      <td>Needs Improvement</td>\n",
       "      <td>39,987,101.29</td>\n",
       "      <td>16.35</td>\n",
       "    </tr>\n",
       "    <tr>\n",
       "      <th>2</th>\n",
       "      <td>Good</td>\n",
       "      <td>3,062,340.85</td>\n",
       "      <td>1.25</td>\n",
       "    </tr>\n",
       "  </tbody>\n",
       "</table>\n",
       "</div>"
      ],
      "text/plain": [
       "  diet_score_category  Weighted Count  Weighted Percent (%)\n",
       "0                Poor  201,569,110.01                 82.40\n",
       "1   Needs Improvement   39,987,101.29                 16.35\n",
       "2                Good    3,062,340.85                  1.25"
      ]
     },
     "metadata": {},
     "output_type": "display_data"
    },
    {
     "name": "stdout",
     "output_type": "stream",
     "text": [
      "Lifestyle and socioeconomic weighted stats report saved to: outputs\\summary\\obj_1.1_lifestyle_and_socio_economic_weighted_stats_report.xlsx\n"
     ]
    }
   ],
   "source": [
    "# Weighted mean and std for continuous variables using DescrStatsW\n",
    "def weighted_mean_std(data, value_col, weight_col):\n",
    "    df = data[[value_col, weight_col]].dropna()\n",
    "    dsw = DescrStatsW(df[value_col], weights=df[weight_col], ddof=0)\n",
    "    return dsw.mean, dsw.std  \n",
    "\n",
    "# Weighted proportions for categorical variables using DescrStatsW\n",
    "def weighted_proportions(data, cat_col, weight_col):\n",
    "    df = data[[cat_col, weight_col]].dropna()\n",
    "    categories = df[cat_col].unique()\n",
    "    \n",
    "    results = []\n",
    "    for cat in categories:\n",
    "        mask = df[cat_col] == cat\n",
    "        dsw = DescrStatsW(mask.astype(int), weights=df[weight_col], ddof=0)\n",
    "        weighted_percent = round(dsw.mean * 100, 2)\n",
    "        weighted_count = round(dsw.sum, 2)\n",
    "        results.append((cat, weighted_count, weighted_percent))\n",
    "    \n",
    "    return pd.DataFrame(results, columns=[cat_col, 'Weighted Count', 'Weighted Percent (%)'])\n",
    "\n",
    "# Create output tables dictionary using original descriptive sheet names\n",
    "output_tables = {}\n",
    "\n",
    "# Example assuming obj1_df is your DataFrame\n",
    "output_tables[\"Gender Distribution\"] = weighted_proportions(obj1_df, 'gender', 'interview_sample_weight')\n",
    "output_tables[\"Race/Ethnicity Distribution\"] = weighted_proportions(obj1_df, 'race_ethnicity', 'interview_sample_weight')\n",
    "output_tables[\"Education Level Distribution\"] = weighted_proportions(obj1_df, 'education_level', 'interview_sample_weight')\n",
    "\n",
    "mean_pir, std_pir = weighted_mean_std(obj1_df, 'poverty_income_ratio', 'interview_sample_weight')\n",
    "output_tables[\"PIR Summary\"] = pd.DataFrame({\n",
    "    'Metric': ['Weighted Mean', 'Weighted Std Dev'],\n",
    "    'Poverty Income Ratio (PIR)': [round(mean_pir, 2), round(std_pir, 2)]\n",
    "})\n",
    "\n",
    "output_tables[\"Health Insurance Coverage\"] = weighted_proportions(obj1_df, 'has_health_insurance', 'interview_sample_weight')\n",
    "\n",
    "mean_sleep, std_sleep = weighted_mean_std(obj1_df, 'sleep_avg_hr', 'interview_sample_weight')\n",
    "output_tables[\"Sleep Duration Summary\"] = pd.DataFrame({\n",
    "    'Metric': ['Weighted Mean', 'Weighted Std Dev'],\n",
    "    'Sleep (Avg Hrs/Day)': [round(mean_sleep, 2), round(std_sleep, 2)]\n",
    "})\n",
    "\n",
    "output_tables[\"Sleep Duration Category\"] = weighted_proportions(obj1_df, 'sleep_category', 'interview_sample_weight')\n",
    "\n",
    "mean_pa, std_pa = weighted_mean_std(obj1_df, 'total_weekly_min', 'interview_sample_weight')\n",
    "output_tables[\"Physical Activity Summary\"] = pd.DataFrame({\n",
    "    'Metric': ['Weighted Mean', 'Weighted Std Dev'],\n",
    "    'Weekly Activity (min)': [round(mean_pa, 2), round(std_pa, 2)]\n",
    "})\n",
    "\n",
    "output_tables[\"Physical Activity Level\"] = weighted_proportions(obj1_df, 'activity_level', 'interview_sample_weight')\n",
    "\n",
    "mean_diet, std_diet = weighted_mean_std(obj1_df, 'hei_score', 'total_diet_weight')\n",
    "output_tables[\"Diet Score Summary\"] = pd.DataFrame({\n",
    "    'Metric': ['Weighted Mean', 'Weighted Std Dev'],\n",
    "    'Diet Score': [round(mean_diet, 2), round(std_diet, 2)]\n",
    "})\n",
    "\n",
    "output_tables[\"Diet Quality Category\"] = weighted_proportions(obj1_df, 'diet_score_category', 'total_diet_weight')\n",
    "\n",
    "# Show all tables before saving to Excel\n",
    "for sheet_name, table in output_tables.items():\n",
    "    print(f\"\\n=== {sheet_name} ===\")\n",
    "    display(table)  \n",
    "\n",
    "# Write to Excel\n",
    "output_file = SUMMARY_DIR / \"obj_1.1_lifestyle_and_socio_economic_weighted_stats_report.xlsx\"\n",
    "\n",
    "with pd.ExcelWriter(output_file, engine='xlsxwriter') as writer:\n",
    "    for sheet_name, table in output_tables.items():\n",
    "        clean_name = clean_sheet_name(sheet_name)\n",
    "        table.to_excel(writer, sheet_name=clean_name, index=False)\n",
    "\n",
    "print(f\"Lifestyle and socioeconomic weighted stats report saved to: {pretty_path(output_file)}\")\n"
   ]
  },
  {
   "cell_type": "markdown",
   "id": "f0d67266",
   "metadata": {},
   "source": [
    "### 2b. Weighted Descriptive Analysis without a Complex design - Visualization"
   ]
  },
  {
   "cell_type": "markdown",
   "id": "710bc18a",
   "metadata": {},
   "source": [
    "***A weighted overview of health-related behaviors, economic standing, and demographic distributions***\n",
    "This figure summarizes key indicators like diet quality, sleep duration, physical activity, income ratio, insurance status, and demographic makeup using weighted statistics from the NHANES 2021–2023 dataset. The visualizations include proportion charts, mean ± standard deviation bars, and weighted histograms to reflect the U.S. adult population more accurately."
   ]
  },
  {
   "cell_type": "code",
   "execution_count": 8,
   "id": "16901698",
   "metadata": {},
   "outputs": [
    {
     "data": {
      "image/png": "[encoded data removed]",
      "text/plain": [
       "<Figure size 2200x1600 with 9 Axes>"
      ]
     },
     "metadata": {},
     "output_type": "display_data"
    },
    {
     "name": "stdout",
     "output_type": "stream",
     "text": [
      "Lifestyle and socioeconomic weighted stats distribution plots saved to: outputs\\plots\\obj_1.1_lifestyle_and_socio_economic_weighted_stats_distribution_plots.png\n"
     ]
    }
   ],
   "source": [
    "# Get weighted summaries as DataFrames\n",
    "gender_df = weighted_proportions(obj1_df, 'gender', 'interview_sample_weight')\n",
    "race_df = weighted_proportions(obj1_df, 'race_ethnicity', 'interview_sample_weight')\n",
    "diet_cat_df = weighted_proportions(obj1_df, 'diet_score_category', 'total_diet_weight')\n",
    "sleep_cat_df = weighted_proportions(obj1_df, 'sleep_category', 'interview_sample_weight')\n",
    "insurance_df = weighted_proportions(obj1_df, 'has_health_insurance', 'interview_sample_weight')\n",
    "\n",
    "# Reset indices\n",
    "gender_df = gender_df.reset_index(drop=True)\n",
    "race_df = race_df.reset_index(drop=True)\n",
    "diet_cat_df = diet_cat_df.reset_index(drop=True)\n",
    "sleep_cat_df = sleep_cat_df.reset_index(drop=True)\n",
    "insurance_df = insurance_df.reset_index(drop=True)\n",
    "\n",
    "# Weighted means ± std\n",
    "mean_pir, std_pir = weighted_mean_std(obj1_df, 'poverty_income_ratio', 'interview_sample_weight')\n",
    "mean_pa, std_pa = weighted_mean_std(obj1_df, 'total_weekly_min', 'interview_sample_weight')\n",
    "\n",
    "# Plot style\n",
    "sns.set_style(\"whitegrid\")\n",
    "sns.set_context(\"talk\")\n",
    "\n",
    "# Create 3x3 grid of subplots\n",
    "fig, axes = plt.subplots(3, 3, figsize=(22, 16), constrained_layout=True)\n",
    "axes = axes.flatten()\n",
    "\n",
    "# Plot 1–5: Proportions\n",
    "barplot_data = [\n",
    "    (gender_df, 'gender', 'Gender Distribution', 'pastel'),\n",
    "    (race_df, 'race_ethnicity', 'Race/Ethnicity Distribution', 'tab10'),\n",
    "    (diet_cat_df, 'diet_score_category', 'Diet Quality Category', 'Set2'),\n",
    "    (sleep_cat_df, 'sleep_category', 'Sleep Duration Category', 'muted'),\n",
    "    (insurance_df, 'has_health_insurance', 'Health Insurance Coverage', 'coolwarm')\n",
    "]\n",
    "\n",
    "for idx, (df, col, title, palette) in enumerate(barplot_data):\n",
    "    sns.barplot(x='Weighted Percent (%)', y=col, hue=col, data=df,\n",
    "                ax=axes[idx], palette=palette, legend=False)\n",
    "    axes[idx].set_title(title, fontsize=15, weight='bold')\n",
    "    for i, val in enumerate(df['Weighted Percent (%)']):\n",
    "        axes[idx].text(val + 1, i, f'{val:.1f}%', va='center', fontsize=12)\n",
    "    axes[idx].set_xlabel('')\n",
    "    axes[idx].set_ylabel(col.replace('_', ' ').title())\n",
    "\n",
    "# Plot 6: PIR Bar with Error\n",
    "axes[5].barh(['Poverty Income Ratio'], [mean_pir],\n",
    "             xerr=[std_pir], color='skyblue', edgecolor='black', capsize=8)\n",
    "axes[5].set_xlim(left=0)\n",
    "axes[5].set_title('Poverty Income Ratio\\n(Weighted Mean ± Std)', fontsize=15, weight='bold')\n",
    "axes[5].set_xlabel('')\n",
    "axes[5].set_ylabel('')\n",
    "axes[5].grid(axis='x')\n",
    "\n",
    "# Plot 7: Physical Activity Bar with Error\n",
    "axes[6].barh(['Weekly Minutes'], [mean_pa],\n",
    "             xerr=[std_pa], color='lightgreen', edgecolor='black', capsize=8)\n",
    "axes[6].set_xlim(left=0)\n",
    "axes[6].set_title('Physical Activity\\n(Weighted Mean ± Std)', fontsize=15, weight='bold')\n",
    "axes[6].set_xlabel('')\n",
    "axes[6].set_ylabel('')\n",
    "axes[6].grid(axis='x')\n",
    "\n",
    "# Plot 8: Weighted Histogram for Poverty Income Ratio\n",
    "sns.histplot(\n",
    "    obj1_df,\n",
    "    x='poverty_income_ratio',\n",
    "    weights='interview_sample_weight',\n",
    "    bins=40,\n",
    "    kde=True,\n",
    "    color='skyblue',\n",
    "    edgecolor='black',\n",
    "    ax=axes[7]\n",
    ")\n",
    "axes[7].set_title('Weighted Histogram of Poverty Income Ratio (PIR)', fontsize=15, weight='bold')\n",
    "axes[7].set_xlabel('Poverty Income Ratio (PIR)')\n",
    "axes[7].set_ylabel('Weighted Count')\n",
    "\n",
    "# Plot 9: Weighted Histogram for Physical Activity\n",
    "sns.histplot(\n",
    "    obj1_df,\n",
    "    x='total_weekly_min',\n",
    "    weights='interview_sample_weight',\n",
    "    bins=40,\n",
    "    kde=True,\n",
    "    color='lightgreen',\n",
    "    edgecolor='black',\n",
    "    ax=axes[8]\n",
    ")\n",
    "axes[8].set_title('Weighted Histogram of Weekly Physical Activity (min)', fontsize=15, weight='bold')\n",
    "axes[8].set_xlabel('Weekly Physical Activity (min)')\n",
    "axes[8].set_ylabel('Weighted Count')\n",
    "\n",
    "# Title\n",
    "fig.suptitle(\"NHANES 2021-2023: Lifestyle & Socioeconomic Indicators (Weighted)\",\n",
    "             fontsize=22, weight='bold', y=1.02)\n",
    "\n",
    "# Save & Show\n",
    "PLOTS_DIR.mkdir(parents=True, exist_ok=True)\n",
    "plot_path = PLOTS_DIR / \"obj_1.1_lifestyle_and_socio_economic_weighted_stats_distribution_plots.png\"\n",
    "plt.savefig(plot_path, dpi=300, bbox_inches='tight')\n",
    "plt.show()\n",
    "plt.close()\n",
    "print(f\"Lifestyle and socioeconomic weighted stats distribution plots saved to: {pretty_path(plot_path)}\")\n"
   ]
  }
 ],
 "metadata": {
  "kernelspec": {
   "display_name": "venv (3.13.1)",
   "language": "python",
   "name": "python3"
  },
  "language_info": {
   "codemirror_mode": {
    "name": "ipython",
    "version": 3
   },
   "file_extension": ".py",
   "mimetype": "text/x-python",
   "name": "python",
   "nbconvert_exporter": "python",
   "pygments_lexer": "ipython3",
   "version": "3.13.1"
  }
 },
 "nbformat": 4,
 "nbformat_minor": 5
}
